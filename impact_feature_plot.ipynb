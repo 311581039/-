{
 "cells": [
  {
   "cell_type": "code",
   "execution_count": 21,
   "metadata": {},
   "outputs": [],
   "source": [
    "from pyspark.sql import SparkSession\n",
    "import seaborn as sns\n",
    "from pyspark.sql.functions import concat_ws"
   ]
  },
  {
   "cell_type": "code",
   "execution_count": 22,
   "metadata": {},
   "outputs": [],
   "source": [
    "spark = SparkSession.builder.appName(\"plot\").getOrCreate()"
   ]
  },
  {
   "cell_type": "code",
   "execution_count": 23,
   "metadata": {},
   "outputs": [],
   "source": [
    "data = spark.read.parquet(\"data_parquet/*/*\",header = True)"
   ]
  },
  {
   "cell_type": "code",
   "execution_count": 24,
   "metadata": {},
   "outputs": [],
   "source": [
    "eventtype_data = data.select(concat_ws(\"_\",'事故類型及型態大類別名稱', '事故類型及型態子類別名稱').alias('事故類型及型態類別名稱'), '事故類別名稱')"
   ]
  },
  {
   "cell_type": "code",
   "execution_count": 25,
   "metadata": {},
   "outputs": [
    {
     "name": "stdout",
     "output_type": "stream",
     "text": [
      "+----------------------+------------+\n",
      "|事故類型及型態類別名稱|事故類別名稱|\n",
      "+----------------------+------------+\n",
      "|     車與車_路口交岔撞|          A2|\n",
      "|     車與車_路口交岔撞|          A2|\n",
      "|     車與車_路口交岔撞|          A2|\n",
      "|           車與車_其他|          A2|\n",
      "|           車與車_其他|          A2|\n",
      "|           車與車_側撞|          A2|\n",
      "|           車與車_側撞|          A2|\n",
      "|           車與車_側撞|          A2|\n",
      "|           車與車_側撞|          A2|\n",
      "|           車與車_側撞|          A2|\n",
      "+----------------------+------------+\n",
      "only showing top 10 rows\n",
      "\n"
     ]
    }
   ],
   "source": [
    "eventtype_data = eventtype_data.fillna(value=0)\n",
    "eventtype_data.show(10) "
   ]
  },
  {
   "cell_type": "code",
   "execution_count": 27,
   "metadata": {},
   "outputs": [
    {
     "name": "stderr",
     "output_type": "stream",
     "text": [
      "[Stage 26:====================================>                    (9 + 5) / 14]\r"
     ]
    },
    {
     "name": "stdout",
     "output_type": "stream",
     "text": [
      "+-------------------------------+------+\n",
      "|         事故類型及型態類別名稱| count|\n",
      "+-------------------------------+------+\n",
      "|      人與汽(機)車_在路上作業中|  1479|\n",
      "|    汽(機)車本身_撞號誌、標誌桿|  3060|\n",
      "|        人與汽(機)車_在路上嬉戲|   316|\n",
      "|      汽(機)車本身_撞非固定設施|  1825|\n",
      "|              人與汽(機)車_其他| 35990|\n",
      "|                    車與車_對撞| 29498|\n",
      "|      汽(機)車本身_撞路樹、電桿| 12672|\n",
      "|                    車與車_追撞|385503|\n",
      "|        汽(機)車本身_撞工程施工|  1248|\n",
      "|            汽(機)車本身_撞動物| 11384|\n",
      "|                車與車_對向擦撞| 94144|\n",
      "|              車與車_路口交岔撞|308724|\n",
      "|      人與汽(機)車_佇立路邊(外)|  3139|\n",
      "|        人與汽(機)車_穿越道路中| 81912|\n",
      "|              汽(機)車本身_其他| 17311|\n",
      "|                    車與車_其他|547592|\n",
      "|        汽(機)車本身_撞護欄(樁)|  9340|\n",
      "|                車與車_同向擦撞|343894|\n",
      "|人與汽(機)車_從停車後(或中)穿出|  1139|\n",
      "|  平交道事故_衝過(或撞壞)遮斷器|    11|\n",
      "+-------------------------------+------+\n",
      "only showing top 20 rows\n",
      "\n"
     ]
    },
    {
     "name": "stderr",
     "output_type": "stream",
     "text": [
      "                                                                                \r"
     ]
    }
   ],
   "source": [
    "eventtype_data.groupBy('事故類型及型態類別名稱').count().show()\n"
   ]
  },
  {
   "cell_type": "code",
   "execution_count": 32,
   "metadata": {},
   "outputs": [],
   "source": [
    "%config InlineBackend. figure_format = 'retina'"
   ]
  },
  {
   "cell_type": "code",
   "execution_count": 41,
   "metadata": {},
   "outputs": [
    {
     "name": "stderr",
     "output_type": "stream",
     "text": [
      "                                                                                \r"
     ]
    },
    {
     "ename": "AttributeError",
     "evalue": "'DataFrame' object has no attribute 'plot'",
     "output_type": "error",
     "traceback": [
      "\u001b[0;31m---------------------------------------------------------------------------\u001b[0m",
      "\u001b[0;31mAttributeError\u001b[0m                            Traceback (most recent call last)",
      "Cell \u001b[0;32mIn[41], line 8\u001b[0m\n\u001b[1;32m      4\u001b[0m eventtype_ary \u001b[39m=\u001b[39m eventtype_data\u001b[39m.\u001b[39mtoPandas()\n\u001b[1;32m      6\u001b[0m font1 \u001b[39m=\u001b[39m font(fname\u001b[39m=\u001b[39m\u001b[39m\"\u001b[39m\u001b[39mNoto_Sans_TC/NotoSansTC-Regular.otf\u001b[39m\u001b[39m\"\u001b[39m)\n\u001b[0;32m----> 8\u001b[0m chart \u001b[39m=\u001b[39m eventtype_data\u001b[39m.\u001b[39;49mplot(kind\u001b[39m=\u001b[39m\u001b[39m'\u001b[39m\u001b[39mbar\u001b[39m\u001b[39m'\u001b[39m,  \u001b[39m#圖表類型\u001b[39;00m\n\u001b[1;32m      9\u001b[0m \t\t    title\u001b[39m=\u001b[39m\u001b[39m'\u001b[39m\u001b[39m事故類別與類型及型態類別\u001b[39m\u001b[39m'\u001b[39m,  \u001b[39m#圖表標題\u001b[39;00m\n\u001b[1;32m     10\u001b[0m                     xlabel\u001b[39m=\u001b[39m\u001b[39m'\u001b[39m\u001b[39m事故類型及型態類別名稱\u001b[39m\u001b[39m'\u001b[39m,  \u001b[39m#x軸說明文字\u001b[39;00m\n\u001b[1;32m     11\u001b[0m                     ylabel\u001b[39m=\u001b[39m\u001b[39m'\u001b[39m\u001b[39m事故類別名稱數量\u001b[39m\u001b[39m'\u001b[39m,  \u001b[39m#y軸說明文字\u001b[39;00m\n\u001b[1;32m     12\u001b[0m                     legend\u001b[39m=\u001b[39m\u001b[39mTrue\u001b[39;00m,  \u001b[39m# 是否顯示圖例\u001b[39;00m\n\u001b[1;32m     13\u001b[0m                     figsize\u001b[39m=\u001b[39m(\u001b[39m20\u001b[39m, \u001b[39m10\u001b[39m))  \u001b[39m# 圖表大小\u001b[39;00m\n\u001b[1;32m     15\u001b[0m \u001b[39mfor\u001b[39;00m label \u001b[39min\u001b[39;00m chart\u001b[39m.\u001b[39mget_xticklabels():\n\u001b[1;32m     16\u001b[0m     label\u001b[39m.\u001b[39mset_fontproperties(font1)  \u001b[39m# 設定x軸每一個細分(景點名稱)字型\u001b[39;00m\n",
      "File \u001b[0;32m~/anaconda3/lib/python3.10/site-packages/pyspark/sql/dataframe.py:1659\u001b[0m, in \u001b[0;36mDataFrame.__getattr__\u001b[0;34m(self, name)\u001b[0m\n\u001b[1;32m   1649\u001b[0m \u001b[39m\"\"\"Returns the :class:`Column` denoted by ``name``.\u001b[39;00m\n\u001b[1;32m   1650\u001b[0m \n\u001b[1;32m   1651\u001b[0m \u001b[39m.. versionadded:: 1.3.0\u001b[39;00m\n\u001b[0;32m   (...)\u001b[0m\n\u001b[1;32m   1656\u001b[0m \u001b[39m[Row(age=2), Row(age=5)]\u001b[39;00m\n\u001b[1;32m   1657\u001b[0m \u001b[39m\"\"\"\u001b[39;00m\n\u001b[1;32m   1658\u001b[0m \u001b[39mif\u001b[39;00m name \u001b[39mnot\u001b[39;00m \u001b[39min\u001b[39;00m \u001b[39mself\u001b[39m\u001b[39m.\u001b[39mcolumns:\n\u001b[0;32m-> 1659\u001b[0m     \u001b[39mraise\u001b[39;00m \u001b[39mAttributeError\u001b[39;00m(\n\u001b[1;32m   1660\u001b[0m         \u001b[39m\"\u001b[39m\u001b[39m'\u001b[39m\u001b[39m%s\u001b[39;00m\u001b[39m'\u001b[39m\u001b[39m object has no attribute \u001b[39m\u001b[39m'\u001b[39m\u001b[39m%s\u001b[39;00m\u001b[39m'\u001b[39m\u001b[39m\"\u001b[39m \u001b[39m%\u001b[39m (\u001b[39mself\u001b[39m\u001b[39m.\u001b[39m\u001b[39m__class__\u001b[39m\u001b[39m.\u001b[39m\u001b[39m__name__\u001b[39m, name))\n\u001b[1;32m   1661\u001b[0m jc \u001b[39m=\u001b[39m \u001b[39mself\u001b[39m\u001b[39m.\u001b[39m_jdf\u001b[39m.\u001b[39mapply(name)\n\u001b[1;32m   1662\u001b[0m \u001b[39mreturn\u001b[39;00m Column(jc)\n",
      "\u001b[0;31mAttributeError\u001b[0m: 'DataFrame' object has no attribute 'plot'"
     ]
    }
   ],
   "source": [
    "import matplotlib.pyplot as plt\n",
    "from matplotlib.font_manager import FontProperties as font\n",
    "\n",
    "eventtype_ary = eventtype_data.toPandas()\n",
    "\n",
    "font1 = font(fname=\"Noto_Sans_TC/NotoSansTC-Regular.otf\")\n",
    "\n",
    "chart = eventtype_data.plot(kind='bar',  #圖表類型\n",
    "\t\t    title='事故類別與類型及型態類別',  #圖表標題\n",
    "                    xlabel='事故類型及型態類別名稱',  #x軸說明文字\n",
    "                    ylabel='事故類別名稱數量',  #y軸說明文字\n",
    "                    legend=True,  # 是否顯示圖例\n",
    "                    figsize=(20, 10))  # 圖表大小\n",
    " \n",
    "for label in chart.get_xticklabels():\n",
    "    label.set_fontproperties(font1)  # 設定x軸每一個細分(景點名稱)字型\n",
    "\n",
    "plt.show()\n"
   ]
  }
 ],
 "metadata": {
  "kernelspec": {
   "display_name": "base",
   "language": "python",
   "name": "python3"
  },
  "language_info": {
   "codemirror_mode": {
    "name": "ipython",
    "version": 3
   },
   "file_extension": ".py",
   "mimetype": "text/x-python",
   "name": "python",
   "nbconvert_exporter": "python",
   "pygments_lexer": "ipython3",
   "version": "3.10.9"
  },
  "orig_nbformat": 4
 },
 "nbformat": 4,
 "nbformat_minor": 2
}
