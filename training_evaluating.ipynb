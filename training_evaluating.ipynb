{
  "cells": [
    {
      "cell_type": "code",
      "execution_count": 23,
      "metadata": {
        "colab": {
          "base_uri": "https://localhost:8080/"
        },
        "id": "v-ZbJlpgeDFG",
        "outputId": "50defc37-ceb5-4fed-a320-6071050c7c2e"
      },
      "outputs": [],
      "source": [
        "#!apt-get -y install openjdk-8-jre-headless\n",
        "#!pip install pyspark"
      ]
    },
    {
      "attachments": {},
      "cell_type": "markdown",
      "metadata": {
        "id": "0aMwKPku9ubV"
      },
      "source": [
        "## 建立Spark物件"
      ]
    },
    {
      "cell_type": "code",
      "execution_count": 24,
      "metadata": {
        "colab": {
          "base_uri": "https://localhost:8080/"
        },
        "id": "3sVfcYPYx3ZU",
        "outputId": "735b5dd2-fe7c-4565-c5f0-a36c70c73a61"
      },
      "outputs": [],
      "source": [
        "#from google.colab import drive\n",
        "from pyspark.sql import SparkSession\n",
        "from pyspark.sql.functions import col, when, lit, rand, split, create_map\n",
        "from pyspark.ml.feature import StringIndexer\n",
        "from pyspark.ml.classification import RandomForestClassifier, RandomForestClassificationModel\n",
        "from pyspark.ml.feature import VectorAssembler\n",
        "from pyspark.ml.tuning import CrossValidator, ParamGridBuilder, CrossValidatorModel\n",
        "from pyspark.ml.evaluation import MulticlassClassificationEvaluator, BinaryClassificationEvaluator \n",
        "from itertools import chain\n",
        "import seaborn as sns\n",
        "import pandas as pd\n",
        "from sklearn.metrics import classification_report, confusion_matrix\n",
        "#drive.mount('/content/gdrive')"
      ]
    },
    {
      "cell_type": "code",
      "execution_count": 25,
      "metadata": {
        "id": "Si3_GlNw4rsF"
      },
      "outputs": [],
      "source": [
        "spark = SparkSession.builder.appName(\"final\").getOrCreate()"
      ]
    },
    {
      "cell_type": "code",
      "execution_count": 26,
      "metadata": {
        "colab": {
          "base_uri": "https://localhost:8080/"
        },
        "id": "tATHnHNX3h2P",
        "outputId": "568e29c0-c9d3-4141-e757-dae97db8616f"
      },
      "outputs": [],
      "source": [
        "train = spark.read.parquet(\"train\",header = True)\n",
        "test = spark.read.parquet(\"test\",header = True)"
      ]
    },
    {
      "attachments": {},
      "cell_type": "markdown",
      "metadata": {
        "id": "9o9KUg6lU16W"
      },
      "source": [
        "### 計算訓練集分類權重"
      ]
    },
    {
      "cell_type": "code",
      "execution_count": 27,
      "metadata": {
        "colab": {
          "base_uri": "https://localhost:8080/"
        },
        "id": "qJ_-sfNJQbi8",
        "outputId": "3aef0317-e229-42a5-aaea-e0ea7c929388"
      },
      "outputs": [
        {
          "name": "stdout",
          "output_type": "stream",
          "text": [
            "{0.0: 0.5024682249470879, 1.0: 101.78736454712738}\n"
          ]
        }
      ],
      "source": [
        "import numpy as np\n",
        "y_collect = train.select(\"事故類別名稱_numeric\").groupBy(\"事故類別名稱_numeric\").count().collect()\n",
        "unique_y = [x[\"事故類別名稱_numeric\"] for x in y_collect]\n",
        "total_y = sum([x[\"count\"] for x in y_collect])\n",
        "unique_y_count = len(y_collect)\n",
        "bin_count = [x[\"count\"] for x in y_collect]\n",
        "\n",
        "class_weights_spark = {i: ii for i, ii in zip(unique_y, total_y / (unique_y_count * np.array(bin_count)))}\n",
        "print(class_weights_spark)\n"
      ]
    },
    {
      "cell_type": "code",
      "execution_count": 28,
      "metadata": {
        "colab": {
          "base_uri": "https://localhost:8080/"
        },
        "id": "ZsDVimvhQ11H",
        "outputId": "a321fe9e-3dad-4307-86e5-bd130bfc61d7"
      },
      "outputs": [
        {
          "name": "stderr",
          "output_type": "stream",
          "text": [
            "/Users/shishihh/anaconda3/lib/python3.10/site-packages/pyspark/sql/column.py:322: FutureWarning: A column as 'key' in getItem is deprecated as of Spark 3.0, and will not be supported in the future release. Use `column[key]` or `column.key` syntax instead.\n",
            "  warnings.warn(\n"
          ]
        }
      ],
      "source": [
        "mapping_expr = create_map([lit(x) for x in chain(*class_weights_spark.items())])\n",
        "train = train.withColumn(\"weight\", mapping_expr.getItem(col(\"事故類別名稱_numeric\")))"
      ]
    },
    {
      "cell_type": "code",
      "execution_count": 29,
      "metadata": {
        "colab": {
          "base_uri": "https://localhost:8080/"
        },
        "id": "ewG4ck8mRbHV",
        "outputId": "bec9837d-9733-4642-8504-af91845ad356"
      },
      "outputs": [
        {
          "name": "stdout",
          "output_type": "stream",
          "text": [
            "+--------+--------+--------------+--------------------+--------------------+----------------+----------------+-------------------------------+--------------------------+--------------------------+-----------------------------+-----------------------------+-----------------------------+---------------------------+-----------------------------+-------------------------+-------------------------+---------------------------------------+----------------------------------------------------+--------------------------------------------+------------------------------------------+--------------------------------+--------------------------------+-------------------------------+-------------------------------+---------------------------------------+---------------------------------------+--------------+------------+--------------------+--------------------------------------------+--------------------------------+-----------------------------------+-----------------------------------+---------------------------------+---------------+---------------+--------------------+------------------+\n",
            "|發生日期|發生時間|速限-第1當事者|當事者事故發生時年齡|事故類別名稱_numeric|天候名稱_numeric|光線名稱_numeric|道路類別-第1當事者-名稱_numeric|道路型態子類別名稱_numeric|事故位置子類別名稱_numeric|路面狀況-路面鋪裝名稱_numeric|路面狀況-路面狀態名稱_numeric|路面狀況-路面缺陷名稱_numeric|道路障礙-障礙物名稱_numeric|道路障礙-視距品質名稱_numeric|號誌-號誌種類名稱_numeric|號誌-號誌動作名稱_numeric|車道劃分設施-分向設施大類別名稱_numeric|車道劃分設施-分道設施-快車道或一般車道間名稱_numeric|車道劃分設施-分道設施-快慢車道間名稱_numeric|車道劃分設施-分道設施-路面邊線名稱_numeric|事故類型及型態大類別名稱_numeric|事故類型及型態子類別名稱_numeric|肇因研判大類別名稱-主要_numeric|肇因研判子類別名稱-主要_numeric|當事者區分-類別-大類別名稱-車種_numeric|當事者區分-類別-子類別名稱-車種_numeric|無或物_numeric|性別_numeric|保護裝備名稱_numeric|行動電話或電腦或其他相類功能裝置名稱_numeric|當事者行動狀態子類別名稱_numeric|車輛撞擊部位大類別名稱-最初_numeric|車輛撞擊部位子類別名稱-最初_numeric|肇事逃逸類別名稱-是否肇逃_numeric|site_id_numeric|holiday_numeric|            features|            weight|\n",
            "+--------+--------+--------------+--------------------+--------------------+----------------+----------------+-------------------------------+--------------------------+--------------------------+-----------------------------+-----------------------------+-----------------------------+---------------------------+-----------------------------+-------------------------+-------------------------+---------------------------------------+----------------------------------------------------+--------------------------------------------+------------------------------------------+--------------------------------+--------------------------------+-------------------------------+-------------------------------+---------------------------------------+---------------------------------------+--------------+------------+--------------------+--------------------------------------------+--------------------------------+-----------------------------------+-----------------------------------+---------------------------------+---------------+---------------+--------------------+------------------+\n",
            "|20201204|      13|            30|                  19|                 0.0|             1.0|             0.0|                            0.0|                       1.0|                       0.0|                          0.0|                          1.0|                          0.0|                        0.0|                          0.0|                      0.0|                      0.0|                                    3.0|                                                 0.0|                                         0.0|                                       1.0|                             0.0|                             4.0|                            0.0|                            0.0|                                    1.0|                                    8.0|           0.0|         0.0|                 0.0|                                         0.0|                             0.0|                                1.0|                                4.0|                              0.0|           33.0|            0.0|(36,[0,1,2,3,4,7,...|0.5024682249470879|\n",
            "|20201204|      13|            30|                  21|                 0.0|             0.0|             0.0|                            0.0|                       2.0|                       0.0|                          0.0|                          0.0|                          0.0|                        0.0|                          0.0|                      0.0|                      0.0|                                    1.0|                                                 0.0|                                         0.0|                                       0.0|                             0.0|                             0.0|                            0.0|                            0.0|                                    0.0|                                    0.0|           0.0|         1.0|                 0.0|                                         0.0|                             1.0|                                0.0|                                0.0|                              0.0|           26.0|            0.0|(36,[0,1,2,3,7,16...|0.5024682249470879|\n",
            "|20201204|      13|            30|                  23|                 0.0|             1.0|             0.0|                            0.0|                       1.0|                       2.0|                          0.0|                          1.0|                          0.0|                        0.0|                          0.0|                      1.0|                      1.0|                                    1.0|                                                 1.0|                                         0.0|                                       0.0|                             0.0|                             1.0|                            0.0|                            8.0|                                    1.0|                                    1.0|           0.0|         0.0|                 0.0|                                         0.0|                             4.0|                                1.0|                                2.0|                              0.0|          116.0|            0.0|(36,[0,1,2,3,4,7,...|0.5024682249470879|\n",
            "|20201204|      13|            30|                  25|                 0.0|             0.0|             0.0|                            1.0|                       1.0|                       0.0|                          0.0|                          0.0|                          0.0|                        0.0|                          0.0|                      0.0|                      0.0|                                    0.0|                                                 0.0|                                         0.0|                                       1.0|                             0.0|                             4.0|                            0.0|                            0.0|                                    0.0|                                    0.0|           0.0|         1.0|                 0.0|                                         0.0|                             0.0|                                0.0|                                0.0|                              0.0|          290.0|            0.0|(36,[0,1,2,3,6,7,...|0.5024682249470879|\n",
            "|20201204|      13|            30|                  30|                 0.0|             0.0|             0.0|                            0.0|                       2.0|                       0.0|                          0.0|                          0.0|                          0.0|                        0.0|                          0.0|                      0.0|                      0.0|                                    0.0|                                                 0.0|                                         0.0|                                       0.0|                             0.0|                             0.0|                            0.0|                            0.0|                                    0.0|                                    0.0|           0.0|         1.0|                 1.0|                                         1.0|                             0.0|                                2.0|                                3.0|                              0.0|           62.0|            0.0|(36,[0,1,2,3,7,27...|0.5024682249470879|\n",
            "|20201204|      13|            30|                  43|                 0.0|             0.0|             0.0|                            0.0|                       2.0|                       0.0|                          0.0|                          0.0|                          0.0|                        0.0|                          0.0|                      0.0|                      0.0|                                    0.0|                                                 0.0|                                         0.0|                                       1.0|                             0.0|                             0.0|                            0.0|                            3.0|                                    1.0|                                    1.0|           0.0|         0.0|                 1.0|                                         1.0|                             1.0|                                1.0|                                0.0|                              0.0|          288.0|            0.0|(36,[0,1,2,3,7,19...|0.5024682249470879|\n",
            "|20201204|      13|            30|                  49|                 0.0|             1.0|             0.0|                            0.0|                       1.0|                       0.0|                          0.0|                          1.0|                          0.0|                        0.0|                          0.0|                      0.0|                      0.0|                                    3.0|                                                 1.0|                                         0.0|                                       1.0|                             0.0|                             0.0|                            0.0|                            3.0|                                    1.0|                                    3.0|           0.0|         0.0|                 0.0|                                         0.0|                             1.0|                                1.0|                                5.0|                              0.0|           37.0|            0.0|(36,[0,1,2,3,4,7,...|0.5024682249470879|\n",
            "|20201204|      13|            40|                  19|                 0.0|             0.0|             0.0|                            0.0|                       1.0|                       2.0|                          0.0|                          0.0|                          0.0|                        0.0|                          0.0|                      1.0|                      1.0|                                    2.0|                                                 3.0|                                         1.0|                                       0.0|                             0.0|                             2.0|                            0.0|                            1.0|                                    0.0|                                    0.0|           0.0|         1.0|                 0.0|                                         0.0|                             0.0|                                0.0|                                0.0|                              0.0|           56.0|            0.0|(36,[0,1,2,3,7,8,...|0.5024682249470879|\n",
            "|20201204|      13|            40|                  23|                 0.0|             0.0|             0.0|                            0.0|                       0.0|                       3.0|                          0.0|                          0.0|                          0.0|                        0.0|                          0.0|                      1.0|                      1.0|                                    2.0|                                                 1.0|                                         1.0|                                       1.0|                             0.0|                             3.0|                            0.0|                            4.0|                                    0.0|                                    0.0|           0.0|         1.0|                 0.0|                                         0.0|                             0.0|                                0.0|                                2.0|                              0.0|           21.0|            0.0|(36,[0,1,2,3,8,14...|0.5024682249470879|\n",
            "|20201204|      13|            40|                  25|                 0.0|             0.0|             0.0|                            0.0|                       9.0|                       6.0|                          0.0|                          0.0|                          0.0|                        0.0|                          0.0|                      0.0|                      0.0|                                    0.0|                                                 1.0|                                         1.0|                                       0.0|                             0.0|                             0.0|                            0.0|                            7.0|                                    1.0|                                    1.0|           0.0|         0.0|                 0.0|                                         0.0|                             2.0|                                1.0|                                4.0|                              0.0|          107.0|            0.0|(36,[0,1,2,3,7,8,...|0.5024682249470879|\n",
            "+--------+--------+--------------+--------------------+--------------------+----------------+----------------+-------------------------------+--------------------------+--------------------------+-----------------------------+-----------------------------+-----------------------------+---------------------------+-----------------------------+-------------------------+-------------------------+---------------------------------------+----------------------------------------------------+--------------------------------------------+------------------------------------------+--------------------------------+--------------------------------+-------------------------------+-------------------------------+---------------------------------------+---------------------------------------+--------------+------------+--------------------+--------------------------------------------+--------------------------------+-----------------------------------+-----------------------------------+---------------------------------+---------------+---------------+--------------------+------------------+\n",
            "only showing top 10 rows\n",
            "\n"
          ]
        }
      ],
      "source": [
        "train.show(10)"
      ]
    },
    {
      "attachments": {},
      "cell_type": "markdown",
      "metadata": {
        "id": "wDTy8RfVaUVW"
      },
      "source": [
        "## Model training"
      ]
    },
    {
      "attachments": {},
      "cell_type": "markdown",
      "metadata": {
        "id": "tl2O55s7VEAZ"
      },
      "source": [
        "### 自定義cross validation 模型"
      ]
    },
    {
      "cell_type": "code",
      "execution_count": 30,
      "metadata": {
        "id": "f9qzlDJ-9xe4"
      },
      "outputs": [],
      "source": [
        "class CrossValidatorVerbose(CrossValidator):\n",
        "    def _fit(self, dataset):\n",
        "        est = self.getOrDefault(self.estimator)\n",
        "        eva = self.getOrDefault(self.evaluator)\n",
        "        nFolds = self.getOrDefault(self.numFolds)\n",
        "        seed = self.getOrDefault(self.seed)\n",
        "        h = 1.0 / nFolds\n",
        "\n",
        "        randCol = self.uid + \"_rand\"\n",
        "        df = dataset.select(\"*\", rand(seed).alias(randCol))\n",
        "        f1_val = []\n",
        "        f1_train = []\n",
        "\n",
        "        for i in range(nFolds):\n",
        "            foldNum = i + 1\n",
        "            validateLB = i * h\n",
        "            validateUB = (i + 1) * h\n",
        "            condition = (df[randCol] >= validateLB) & (df[randCol] < validateUB)\n",
        "            validation = df.filter(condition)\n",
        "            train = df.filter(~condition)\n",
        "            model = est.fit(train)\n",
        "            prediction_val = model.transform(validation)\n",
        "            prediction_train = model.transform(train)\n",
        "            metric_val = (eva[0].evaluate(prediction_val)+eva[1].evaluate(prediction_val))*0.5\n",
        "            f1_val.append(metric_val)\n",
        "            metric_train = (eva[0].evaluate(prediction_train)+eva[1].evaluate(prediction_train))*0.5\n",
        "            f1_train.append(metric_train)\n",
        "            print(f\"Fold {foldNum}  | F1-score | Validation: {metric_val} | Train: {metric_train}\")\n",
        "        \n",
        "        Allmodel = est.fit(dataset)        \n",
        "        avgMetrics = sum(f1_val)/len(f1_val)\n",
        "        print(f\"Average | F1-score | Validation: {avgMetrics} | Train: {sum(f1_train)/len(f1_train)}\")\n",
        "\n",
        "        return self._copyValues(CrossValidatorModel(Allmodel, avgMetrics))\n",
        "# Reference: https://stackoverflow.com/questions/53600615/cross-validation-metrics-with-pyspark"
      ]
    },
    {
      "cell_type": "code",
      "execution_count": 31,
      "metadata": {
        "id": "yp3j297yM4lq"
      },
      "outputs": [],
      "source": [
        "rf = RandomForestClassifier(featuresCol = 'features', labelCol = '事故類別名稱_numeric',\n",
        "                subsamplingRate = 0.8, featureSubsetStrategy = \"sqrt\", numTrees = 15, maxDepth = 11, weightCol=\"weight\")\n",
        "#grid = ParamGridBuilder().build()\n",
        "\n",
        "#Create ParamGrid for Cross Validation\n",
        "grid = ParamGridBuilder().build()\n",
        "#               .addGrid(rf.maxDepth, [9,10,12])\\\n",
        "#               .addGrid(rf.maxBins, [10,20,32])\\\n",
        "#               .addGrid(rf.numTrees, [5,10,15])\\\n",
        "\n",
        "evaluator_0 = MulticlassClassificationEvaluator(metricName='fMeasureByLabel', metricLabel = 0.0, beta=1.0, labelCol = '事故類別名稱_numeric')\n",
        "evaluator_1 = MulticlassClassificationEvaluator(metricName='fMeasureByLabel', metricLabel = 1.0, beta=1.0, labelCol = '事故類別名稱_numeric')"
      ]
    },
    {
      "cell_type": "code",
      "execution_count": 32,
      "metadata": {
        "id": "Baj-q7hacrWL"
      },
      "outputs": [],
      "source": [
        "# random forest model\n",
        "# model = rf.fit(train)\n",
        "# prediction_train = model.transform(train)\n",
        "# prediction_test = model.transform(test)\n",
        "# metric_train = (evaluator_0.evaluate(prediction_train) + evaluator_1.evaluate(prediction_train))*0.5\n",
        "# metric_test = (evaluator_0.evaluate(prediction_test) + evaluator_1.evaluate(prediction_test))*0.5\n",
        "# print(f\"F1-score | Train: {metric_train} | Test: {metric_test}\")"
      ]
    },
    {
      "cell_type": "code",
      "execution_count": 33,
      "metadata": {
        "id": "rHScDB9fNj35"
      },
      "outputs": [],
      "source": [
        "cv = CrossValidatorVerbose(estimator=rf, estimatorParamMaps=grid, evaluator=[evaluator_0,evaluator_1], seed = 20230515, numFolds=5)"
      ]
    },
    {
      "cell_type": "code",
      "execution_count": 34,
      "metadata": {
        "colab": {
          "base_uri": "https://localhost:8080/"
        },
        "id": "9hdAsfk0NwGK",
        "outputId": "0cae4c85-894f-41fa-da17-a5d3bec329c5"
      },
      "outputs": [
        {
          "name": "stderr",
          "output_type": "stream",
          "text": [
            "23/05/29 15:24:03 WARN DAGScheduler: Broadcasting large task binary with size 1091.0 KiB\n",
            "23/05/29 15:24:06 WARN DAGScheduler: Broadcasting large task binary with size 1596.0 KiB\n",
            "23/05/29 15:24:12 WARN DAGScheduler: Broadcasting large task binary with size 1213.3 KiB\n",
            "23/05/29 15:24:14 WARN DAGScheduler: Broadcasting large task binary with size 1213.3 KiB\n",
            "23/05/29 15:24:17 WARN DAGScheduler: Broadcasting large task binary with size 1213.3 KiB\n",
            "23/05/29 15:24:22 WARN DAGScheduler: Broadcasting large task binary with size 1213.3 KiB\n",
            "                                                                                \r"
          ]
        },
        {
          "name": "stdout",
          "output_type": "stream",
          "text": [
            "Fold 1  | F1-score | Validation: 0.5042680328874842 | Train: 0.5158900167824606\n"
          ]
        },
        {
          "name": "stderr",
          "output_type": "stream",
          "text": [
            "23/05/29 15:24:45 WARN DAGScheduler: Broadcasting large task binary with size 1068.8 KiB\n",
            "23/05/29 15:24:49 WARN DAGScheduler: Broadcasting large task binary with size 1567.8 KiB\n",
            "23/05/29 15:24:54 WARN DAGScheduler: Broadcasting large task binary with size 1186.1 KiB\n",
            "23/05/29 15:24:56 WARN DAGScheduler: Broadcasting large task binary with size 1186.1 KiB\n",
            "23/05/29 15:24:58 WARN DAGScheduler: Broadcasting large task binary with size 1186.1 KiB\n",
            "23/05/29 15:25:03 WARN DAGScheduler: Broadcasting large task binary with size 1186.1 KiB\n",
            "                                                                                \r"
          ]
        },
        {
          "name": "stdout",
          "output_type": "stream",
          "text": [
            "Fold 2  | F1-score | Validation: 0.507650121950354 | Train: 0.5169394292768695\n"
          ]
        },
        {
          "name": "stderr",
          "output_type": "stream",
          "text": [
            "23/05/29 15:25:29 WARN DAGScheduler: Broadcasting large task binary with size 1101.2 KiB\n",
            "23/05/29 15:25:32 WARN DAGScheduler: Broadcasting large task binary with size 1616.1 KiB\n",
            "23/05/29 15:25:37 WARN DAGScheduler: Broadcasting large task binary with size 1221.8 KiB\n",
            "23/05/29 15:25:39 WARN DAGScheduler: Broadcasting large task binary with size 1221.8 KiB\n",
            "23/05/29 15:25:41 WARN DAGScheduler: Broadcasting large task binary with size 1221.9 KiB\n",
            "23/05/29 15:25:45 WARN DAGScheduler: Broadcasting large task binary with size 1221.9 KiB\n",
            "                                                                                \r"
          ]
        },
        {
          "name": "stdout",
          "output_type": "stream",
          "text": [
            "Fold 3  | F1-score | Validation: 0.5071086756656406 | Train: 0.516620971174131\n"
          ]
        },
        {
          "name": "stderr",
          "output_type": "stream",
          "text": [
            "23/05/29 15:26:09 WARN DAGScheduler: Broadcasting large task binary with size 1082.4 KiB\n",
            "23/05/29 15:26:11 WARN DAGScheduler: Broadcasting large task binary with size 1586.0 KiB\n",
            "23/05/29 15:26:15 WARN DAGScheduler: Broadcasting large task binary with size 1198.0 KiB\n",
            "23/05/29 15:26:17 WARN DAGScheduler: Broadcasting large task binary with size 1198.0 KiB\n",
            "23/05/29 15:26:19 WARN DAGScheduler: Broadcasting large task binary with size 1198.0 KiB\n",
            "23/05/29 15:26:23 WARN DAGScheduler: Broadcasting large task binary with size 1198.0 KiB\n",
            "                                                                                \r"
          ]
        },
        {
          "name": "stdout",
          "output_type": "stream",
          "text": [
            "Fold 4  | F1-score | Validation: 0.5086842986732372 | Train: 0.5180019614181086\n"
          ]
        },
        {
          "name": "stderr",
          "output_type": "stream",
          "text": [
            "23/05/29 15:26:52 WARN DAGScheduler: Broadcasting large task binary with size 1074.5 KiB\n",
            "23/05/29 15:26:57 WARN DAGScheduler: Broadcasting large task binary with size 1564.2 KiB\n",
            "23/05/29 15:27:02 WARN DAGScheduler: Broadcasting large task binary with size 1186.4 KiB\n",
            "23/05/29 15:27:05 WARN DAGScheduler: Broadcasting large task binary with size 1186.4 KiB\n",
            "23/05/29 15:27:07 WARN DAGScheduler: Broadcasting large task binary with size 1186.4 KiB\n",
            "23/05/29 15:27:12 WARN DAGScheduler: Broadcasting large task binary with size 1186.4 KiB\n",
            "                                                                                \r"
          ]
        },
        {
          "name": "stdout",
          "output_type": "stream",
          "text": [
            "Fold 5  | F1-score | Validation: 0.5125369813303504 | Train: 0.5248944084896329\n"
          ]
        },
        {
          "name": "stderr",
          "output_type": "stream",
          "text": [
            "23/05/29 15:27:40 WARN DAGScheduler: Broadcasting large task binary with size 1153.2 KiB\n",
            "23/05/29 15:27:44 WARN DAGScheduler: Broadcasting large task binary with size 1721.6 KiB\n",
            "                                                                                \r"
          ]
        },
        {
          "name": "stdout",
          "output_type": "stream",
          "text": [
            "Average | F1-score | Validation: 0.5080496221014131 | Train: 0.5184693574282406\n"
          ]
        }
      ],
      "source": [
        "cvModel = cv.fit(train)"
      ]
    },
    {
      "attachments": {},
      "cell_type": "markdown",
      "metadata": {
        "id": "IjhI3x4VV2lp"
      },
      "source": [
        "### 儲存模型"
      ]
    },
    {
      "cell_type": "code",
      "execution_count": 35,
      "metadata": {
        "id": "DzjYdDOdeXTW"
      },
      "outputs": [],
      "source": [
        "model_path = \"cv_model_train_weight_8\"\n",
        "cvModel.bestModel.save(model_path)"
      ]
    },
    {
      "attachments": {},
      "cell_type": "markdown",
      "metadata": {
        "id": "2RlPakPqV8v4"
      },
      "source": [
        "## Evaluate"
      ]
    },
    {
      "attachments": {},
      "cell_type": "markdown",
      "metadata": {
        "id": "la4flC_WV6At"
      },
      "source": [
        "### load model"
      ]
    },
    {
      "cell_type": "code",
      "execution_count": 36,
      "metadata": {
        "id": "xKdSLX1Cpp0p"
      },
      "outputs": [],
      "source": [
        "model = RandomForestClassificationModel.load(model_path)"
      ]
    },
    {
      "attachments": {},
      "cell_type": "markdown",
      "metadata": {},
      "source": [
        "### Prediction"
      ]
    },
    {
      "cell_type": "code",
      "execution_count": 37,
      "metadata": {
        "id": "cLcK9FF4p7Qw"
      },
      "outputs": [
        {
          "name": "stderr",
          "output_type": "stream",
          "text": [
            "23/05/29 15:27:52 WARN DAGScheduler: Broadcasting large task binary with size 1330.1 KiB\n",
            "23/05/29 15:27:56 WARN DAGScheduler: Broadcasting large task binary with size 1339.3 KiB\n",
            "23/05/29 15:27:59 WARN DAGScheduler: Broadcasting large task binary with size 1339.3 KiB\n",
            "                                                                                \r"
          ]
        }
      ],
      "source": [
        "prediction_test = model.transform(test)\n",
        "auroc_evaluator = BinaryClassificationEvaluator(metricName = 'areaUnderROC',labelCol = '事故類別名稱_numeric')\n",
        "test_auroc = auroc_evaluator.evaluate(prediction_test)\n",
        "metric_test = (evaluator_0.evaluate(prediction_test) + evaluator_1.evaluate(prediction_test))*0.5"
      ]
    },
    {
      "cell_type": "code",
      "execution_count": 38,
      "metadata": {
        "colab": {
          "base_uri": "https://localhost:8080/"
        },
        "id": "rqYdARMn4tQS",
        "outputId": "78979df5-547d-4066-b7d0-7bbceb85c787"
      },
      "outputs": [
        {
          "name": "stdout",
          "output_type": "stream",
          "text": [
            "F1-Score | Test: 0.5059108243135163\n",
            "AUROC    | Test: 0.8398085699393409\n"
          ]
        }
      ],
      "source": [
        "print(f\"F1-Score | Test: {metric_test}\")\n",
        "print(f\"AUROC    | Test: {test_auroc}\")"
      ]
    },
    {
      "cell_type": "code",
      "execution_count": 39,
      "metadata": {
        "colab": {
          "base_uri": "https://localhost:8080/"
        },
        "id": "fvf3Stuy8Ucp",
        "outputId": "cd9a6da4-1d85-411c-eecc-1e9ac54fe1be"
      },
      "outputs": [
        {
          "name": "stderr",
          "output_type": "stream",
          "text": [
            "23/05/29 15:28:04 WARN DAGScheduler: Broadcasting large task binary with size 1325.2 KiB\n",
            "                                                                                \r"
          ]
        },
        {
          "name": "stdout",
          "output_type": "stream",
          "text": [
            "              precision    recall  f1-score   support\n",
            "\n",
            "         0.0       1.00      0.91      0.95    424636\n",
            "         1.0       0.03      0.56      0.06      2100\n",
            "\n",
            "    accuracy                           0.91    426736\n",
            "   macro avg       0.51      0.74      0.51    426736\n",
            "weighted avg       0.99      0.91      0.95    426736\n",
            "\n"
          ]
        }
      ],
      "source": [
        "y_true = prediction_test.select(['事故類別名稱_numeric']).collect()\n",
        "y_pred = prediction_test.select(['prediction']).collect()\n",
        "print(classification_report(y_true, y_pred))"
      ]
    },
    {
      "attachments": {},
      "cell_type": "markdown",
      "metadata": {
        "id": "NlRW10JiWIGI"
      },
      "source": [
        "### Confusion matrix"
      ]
    },
    {
      "cell_type": "code",
      "execution_count": 40,
      "metadata": {
        "colab": {
          "base_uri": "https://localhost:8080/",
          "height": 469
        },
        "id": "T6e2jkCG_j1h",
        "outputId": "23e1dd6c-0f70-4331-ca51-9290a1118663"
      },
      "outputs": [
        {
          "data": {
            "text/plain": [
              "Text(0.5, 1.0, 'Testing set')"
            ]
          },
          "execution_count": 40,
          "metadata": {},
          "output_type": "execute_result"
        },
        {
          "data": {
            "image/png": "[encoded data removed]",
            "text/plain": [
              "<Figure size 640x480 with 2 Axes>"
            ]
          },
          "metadata": {},
          "output_type": "display_data"
        }
      ],
      "source": [
        "cm = confusion_matrix(y_true,y_pred)\n",
        "cm_matrix_1 = pd.DataFrame(data=cm, index=['Actual Negative:0', 'Actual Positive:1'], columns=['Predict Negative:0','Predict Positive:1'])\n",
        "ax = sns.heatmap(cm_matrix_1, annot=True, fmt='d', cmap='YlGnBu')\n",
        "ax.set_title(\"Testing set\")"
      ]
    },
    {
      "attachments": {},
      "cell_type": "markdown",
      "metadata": {
        "id": "kXjphba7WLjp"
      },
      "source": [
        "### Feature importance"
      ]
    },
    {
      "cell_type": "code",
      "execution_count": 41,
      "metadata": {},
      "outputs": [],
      "source": [
        "features = ['發生日期', '發生時間', '速限-第1當事者', '當事者事故發生時年齡', '天候名稱_numeric', '光線名稱_numeric', '道路類別-第1當事者-名稱_numeric', '道路型態子類別名稱_numeric', '事故位置子類別名稱_numeric', '路面狀況-路面鋪裝名稱_numeric', '路面狀況-路面狀態名稱_numeric', '路面狀況-路面缺陷名稱_numeric', '道路障礙-障礙物名稱_numeric', '道路障礙-視距品質名稱_numeric', '號誌-號誌種類名稱_numeric', '號誌-號誌動作名稱_numeric', '車道劃分設施-分向設施大類別名稱_numeric', '車道劃分設施-分道設施-快車道或一般車道間名稱_numeric', '車道劃分設施-分道設施-快慢車道間名稱_numeric', '車道劃分設施-分道設施-路面邊線名稱_numeric', '事故類型及型態大類別名稱_numeric', '事故類型及型態子類別名稱_numeric', '肇因研判大類別名稱-主要_numeric', '肇因研判子類別名稱-主要_numeric', '當事者區分-類別-大類別名稱-車種_numeric', '當事者區分-類別-子類別名稱-車種_numeric', '無或物_numeric', '性別_numeric', '保護裝備名稱_numeric', '行動電話或電腦或其他相類功能裝置名稱_numeric', '當事者行動狀態子類別名稱_numeric', '車輛撞擊部位大類別名稱-最初_numeric', '車輛撞擊部位子類別名稱-最初_numeric', '肇事逃逸類別名稱-是否肇逃_numeric', 'site_id_numeric', 'holiday_numeric']"
      ]
    },
    {
      "cell_type": "code",
      "execution_count": 42,
      "metadata": {
        "colab": {
          "base_uri": "https://localhost:8080/",
          "height": 430
        },
        "id": "avlkGhi1xNmA",
        "outputId": "cdf27aff-c49a-4e3a-c06f-b46cabe27732"
      },
      "outputs": [
        {
          "data": {
            "image/png": "[encoded data removed]",
            "text/plain": [
              "<Figure size 640x480 with 1 Axes>"
            ]
          },
          "metadata": {},
          "output_type": "display_data"
        }
      ],
      "source": [
        "from matplotlib.font_manager import FontProperties as font\n",
        "import matplotlib.pyplot as plt\n",
        "font1 = font(fname=\"Noto_Sans_TC/NotoSansTC-Regular.otf\")\n",
        "featureImportances = model.featureImportances.toArray()\n",
        "f = {\"index\":features, \"FI\" : featureImportances}\n",
        "FI = pd.DataFrame(f)\n",
        "FI = FI.set_index('index')\n",
        "FI_10 = FI.nlargest(10,'FI').iloc[::-1]\n",
        "axes = FI_10.plot(kind='barh',legend=None)\n",
        "plt.ylabel(' ',fontproperties=font1)\n",
        "for label in axes.get_yticklabels():\n",
        "    label.set_fontproperties(font1)"
      ]
    },
    {
      "cell_type": "code",
      "execution_count": 43,
      "metadata": {
        "id": "_U18imv_Vi3X"
      },
      "outputs": [],
      "source": [
        "spark.stop()"
      ]
    },
    {
      "cell_type": "code",
      "execution_count": 44,
      "metadata": {
        "id": "D8y-M2BQ6GNE"
      },
      "outputs": [],
      "source": [
        "# https://towardsdatascience.com/machine-learning-on-a-large-scale-2eef3bb749ee"
      ]
    },
    {
      "cell_type": "code",
      "execution_count": null,
      "metadata": {
        "id": "urKrFjxiLVdX"
      },
      "outputs": [],
      "source": []
    }
  ],
  "metadata": {
    "colab": {
      "gpuType": "T4",
      "provenance": []
    },
    "gpuClass": "standard",
    "kernelspec": {
      "display_name": "Python 3",
      "name": "python3"
    },
    "language_info": {
      "codemirror_mode": {
        "name": "ipython",
        "version": 3
      },
      "file_extension": ".py",
      "mimetype": "text/x-python",
      "name": "python",
      "nbconvert_exporter": "python",
      "pygments_lexer": "ipython3",
      "version": "3.10.9"
    }
  },
  "nbformat": 4,
  "nbformat_minor": 0
}
