{
  "cells": [
    {
      "cell_type": "code",
      "execution_count": 1,
      "metadata": {
        "colab": {
          "base_uri": "https://localhost:8080/"
        },
        "id": "v-ZbJlpgeDFG",
        "outputId": "50defc37-ceb5-4fed-a320-6071050c7c2e"
      },
      "outputs": [],
      "source": [
        "#!apt-get -y install openjdk-8-jre-headless\n",
        "#!pip install pyspark"
      ]
    },
    {
      "attachments": {},
      "cell_type": "markdown",
      "metadata": {
        "id": "0aMwKPku9ubV"
      },
      "source": [
        "## 建立Spark物件"
      ]
    },
    {
      "cell_type": "code",
      "execution_count": 2,
      "metadata": {
        "colab": {
          "base_uri": "https://localhost:8080/"
        },
        "id": "3sVfcYPYx3ZU",
        "outputId": "735b5dd2-fe7c-4565-c5f0-a36c70c73a61"
      },
      "outputs": [],
      "source": [
        "#from google.colab import drive\n",
        "from pyspark.sql import SparkSession\n",
        "from pyspark.sql.functions import col, when, lit, rand, split, create_map\n",
        "from pyspark.ml.feature import StringIndexer\n",
        "from pyspark.ml.classification import RandomForestClassifier, RandomForestClassificationModel\n",
        "from pyspark.ml.feature import VectorAssembler\n",
        "from pyspark.ml.tuning import CrossValidator, ParamGridBuilder, CrossValidatorModel\n",
        "from pyspark.ml.evaluation import MulticlassClassificationEvaluator, BinaryClassificationEvaluator \n",
        "from itertools import chain\n",
        "import seaborn as sns\n",
        "import pandas as pd\n",
        "from sklearn.metrics import classification_report, confusion_matrix\n",
        "#drive.mount('/content/gdrive')"
      ]
    },
    {
      "cell_type": "code",
      "execution_count": 3,
      "metadata": {
        "id": "Si3_GlNw4rsF"
      },
      "outputs": [
        {
          "name": "stderr",
          "output_type": "stream",
          "text": [
            "23/05/28 11:19:53 WARN Utils: Your hostname, Shihs-PC.local resolves to a loopback address: 127.0.0.1; using 192.168.2.139 instead (on interface en0)\n",
            "23/05/28 11:19:53 WARN Utils: Set SPARK_LOCAL_IP if you need to bind to another address\n",
            "WARNING: An illegal reflective access operation has occurred\n",
            "WARNING: Illegal reflective access by org.apache.spark.unsafe.Platform (file:/Users/shishihh/anaconda3/lib/python3.10/site-packages/pyspark/jars/spark-unsafe_2.12-3.2.1.jar) to constructor java.nio.DirectByteBuffer(long,int)\n",
            "WARNING: Please consider reporting this to the maintainers of org.apache.spark.unsafe.Platform\n",
            "WARNING: Use --illegal-access=warn to enable warnings of further illegal reflective access operations\n",
            "WARNING: All illegal access operations will be denied in a future release\n",
            "Using Spark's default log4j profile: org/apache/spark/log4j-defaults.properties\n",
            "Setting default log level to \"WARN\".\n",
            "To adjust logging level use sc.setLogLevel(newLevel). For SparkR, use setLogLevel(newLevel).\n",
            "23/05/28 11:19:54 WARN NativeCodeLoader: Unable to load native-hadoop library for your platform... using builtin-java classes where applicable\n",
            "23/05/28 11:19:55 WARN Utils: Service 'SparkUI' could not bind on port 4040. Attempting port 4041.\n",
            "23/05/28 11:19:55 WARN Utils: Service 'SparkUI' could not bind on port 4041. Attempting port 4042.\n"
          ]
        }
      ],
      "source": [
        "spark = SparkSession.builder.appName(\"final\").getOrCreate()"
      ]
    },
    {
      "attachments": {},
      "cell_type": "markdown",
      "metadata": {
        "id": "pZL0WHPXUKMG"
      },
      "source": [
        "## 讀檔與合併檔案\n",
        "新增 holiday欄位 0表示該日要上班,2表示該日放假"
      ]
    },
    {
      "cell_type": "code",
      "execution_count": 4,
      "metadata": {
        "colab": {
          "base_uri": "https://localhost:8080/"
        },
        "id": "tATHnHNX3h2P",
        "outputId": "568e29c0-c9d3-4141-e757-dae97db8616f"
      },
      "outputs": [
        {
          "name": "stderr",
          "output_type": "stream",
          "text": [
            "                                                                                \r"
          ]
        }
      ],
      "source": [
        "traffic_data = spark.read.parquet(\"data_parquet/*/*\",header = True)\n",
        "\n",
        "calendar = spark.read.csv(\"calendars\", header=True, encoding='utf8')\n",
        "\n",
        "calendar = calendar.drop(calendar.columns[1],calendar.columns[3]) \\\n",
        "              .withColumnRenamed(calendar.columns[0],\"Date\") \\\n",
        "              .withColumnRenamed(calendar.columns[2],\"holiday\")\n",
        "\n",
        "data = traffic_data.join(calendar, traffic_data.發生日期 == calendar.Date, \"inner\") \\\n",
        "      .drop(calendar.Date)\n",
        "\n",
        "#data.printSchema()"
      ]
    },
    {
      "cell_type": "code",
      "execution_count": 5,
      "metadata": {
        "colab": {
          "base_uri": "https://localhost:8080/"
        },
        "id": "Pq9h7HSjS9kW",
        "outputId": "bc3fadff-d914-44dd-d09a-8c2e57370698"
      },
      "outputs": [
        {
          "name": "stderr",
          "output_type": "stream",
          "text": [
            "[Stage 3:=================================>                        (8 + 6) / 14]\r"
          ]
        },
        {
          "name": "stdout",
          "output_type": "stream",
          "text": [
            "+------------+-------+\n",
            "|事故類別名稱|  count|\n",
            "+------------+-------+\n",
            "|          A2|3024862|\n",
            "|          A1|  15026|\n",
            "+------------+-------+\n",
            "\n"
          ]
        },
        {
          "name": "stderr",
          "output_type": "stream",
          "text": [
            "                                                                                \r"
          ]
        }
      ],
      "source": [
        "traffic_data.groupBy(\"事故類別名稱\").count().show()"
      ]
    },
    {
      "attachments": {},
      "cell_type": "markdown",
      "metadata": {
        "id": "OOi0dmysUVrT"
      },
      "source": [
        "## Data prepocessing"
      ]
    },
    {
      "cell_type": "code",
      "execution_count": 6,
      "metadata": {
        "id": "DqFBzPxgUnuj"
      },
      "outputs": [],
      "source": [
        "data = data.drop(\"死亡受傷人數\",\"死亡人數\",\"受傷人數\")"
      ]
    },
    {
      "attachments": {},
      "cell_type": "markdown",
      "metadata": {
        "id": "IYFqi2nZqYFr"
      },
      "source": [
        "### 定義數值特徵\n",
        "\n"
      ]
    },
    {
      "cell_type": "code",
      "execution_count": 7,
      "metadata": {
        "id": "vOTuTVGmqXip"
      },
      "outputs": [],
      "source": [
        "num_list = [\"發生日期\",\"發生時間\",\"速限-第1當事者\",\"當事者事故發生時年齡\"]\n",
        "# num_list = [\"發生日期\",\"發生時間\",\"速限-第1當事者\",\"當事者事故發生時年齡\",\"死亡人數\",\"受傷人數\"]"
      ]
    },
    {
      "cell_type": "code",
      "execution_count": 8,
      "metadata": {
        "id": "xlZyV1vruRgB"
      },
      "outputs": [],
      "source": [
        "for i in data.columns:\n",
        "  if i in num_list:\n",
        "    data = data.withColumn(i,col(i).cast(\"integer\"))"
      ]
    },
    {
      "cell_type": "code",
      "execution_count": 9,
      "metadata": {
        "colab": {
          "base_uri": "https://localhost:8080/"
        },
        "id": "RyzYPDKruc_5",
        "outputId": "8b72801f-0a86-4340-fff2-5f2d71136651"
      },
      "outputs": [],
      "source": [
        "#data.printSchema()"
      ]
    },
    {
      "attachments": {},
      "cell_type": "markdown",
      "metadata": {
        "id": "-t9RvvMnUcD2"
      },
      "source": [
        "### 僅保留當事者順位為一的資料"
      ]
    },
    {
      "cell_type": "code",
      "execution_count": 10,
      "metadata": {
        "id": "AT3Wvb4NVocF"
      },
      "outputs": [],
      "source": [
        "data = data.filter(data.當事者順位 == \"1\")\n",
        "data = data.drop(\"當事者順位\")"
      ]
    },
    {
      "cell_type": "code",
      "execution_count": 11,
      "metadata": {
        "id": "_gytOdbia9wN"
      },
      "outputs": [],
      "source": [
        "data = data.drop(\"發生地點\",\"道路型態大類別名稱\",\"事故位置大類別名稱\",\n",
        "          \"道路障礙-視距名稱\",\"車道劃分設施-分向設施子類別名稱\",\"當事者行動狀態大類別名稱\",\n",
        "          \"車輛撞擊部位大類別名稱-其他\",\"車輛撞擊部位子類別名稱-其他\",\"肇因研判大類別名稱-個別\",\n",
        "          \"肇因研判子類別名稱-個別\",\"經度\",\"緯度\",\"處理單位名稱警局層\")\n"
      ]
    },
    {
      "cell_type": "code",
      "execution_count": 12,
      "metadata": {
        "colab": {
          "base_uri": "https://localhost:8080/"
        },
        "id": "m5-PjmXnbGMS",
        "outputId": "91893085-e65c-4f59-e7ee-ffa8e2f6a578"
      },
      "outputs": [
        {
          "name": "stderr",
          "output_type": "stream",
          "text": [
            "23/05/28 11:20:04 WARN package: Truncated the string representation of a plan since it was too large. This behavior can be adjusted by setting 'spark.sql.debug.maxToStringFields'.\n"
          ]
        },
        {
          "name": "stdout",
          "output_type": "stream",
          "text": [
            "+--------+--------+------------+--------+------------+-----------------------+--------------+------------------+------------------------+---------------------+---------------------+---------------------+-------------------+---------------------+------------------------------+-----------------+-------------------------------+--------------------------------------------+------------------------------------+----------------------------------+------------------------+------------------------+-----------------------+----------------------------+-------------------------------+-------------------------------+------+----+--------------------+----------------------------------+------------------------------------+------------------------+---------------------------+---------------------------+-------------------------+------------+-------+\n",
            "|發生日期|發生時間|事故類別名稱|天候名稱|    光線名稱|道路類別-第1當事者-名稱|速限-第1當事者|道路型態子類別名稱|      事故位置子類別名稱|路面狀況-路面鋪裝名稱|路面狀況-路面狀態名稱|路面狀況-路面缺陷名稱|道路障礙-障礙物名稱|道路障礙-視距品質名稱|             號誌-號誌種類名稱|號誌-號誌動作名稱|車道劃分設施-分向設施大類別名稱|車道劃分設施-分道設施-快車道或一般車道間名稱|車道劃分設施-分道設施-快慢車道間名稱|車道劃分設施-分道設施-路面邊線名稱|事故類型及型態大類別名稱|事故類型及型態子類別名稱|肇因研判大類別名稱-主要|     肇因研判子類別名稱-主要|當事者區分-類別-大類別名稱-車種|當事者區分-類別-子類別名稱-車種|無或物|性別|當事者事故發生時年齡|                      保護裝備名稱|行動電話或電腦或其他相類功能裝置名稱|當事者行動狀態子類別名稱|車輛撞擊部位大類別名稱-最初|車輛撞擊部位子類別名稱-最初|肇事逃逸類別名稱-是否肇逃|     site_id|holiday|\n",
            "+--------+--------+------------+--------+------------+-----------------------+--------------+------------------+------------------------+---------------------+---------------------+---------------------+-------------------+---------------------+------------------------------+-----------------+-------------------------------+--------------------------------------------+------------------------------------+----------------------------------+------------------------+------------------------+-----------------------+----------------------------+-------------------------------+-------------------------------+------+----+--------------------+----------------------------------+------------------------------------+------------------------+---------------------------+---------------------------+-------------------------+------------+-------+\n",
            "|20221227|      12|          A2|      晴|日間自然光線|               市區道路|            30|            四岔路|              交叉路口內|                 柏油|                 乾燥|               無缺陷|           無障礙物|                 良好|                        無號誌|           無號誌|                             無|                                未繪設車道線|                未繪設快慢車道分隔線|                                無|                  車與車|              路口交岔撞|                 駕駛人|                未依規定讓車|                           機車|                       普通重型| false|  女|                  38|戴安全帽或繫安全帶(使用幼童安全椅)|                              未使用|              向前直行中|                       機車|                   右側車身|                       否|臺中市大雅區|      0|\n",
            "|20221227|      12|          A2|      陰|日間自然光線|               市區道路|            50|      彎曲路及附近|一般車道(未劃分快慢車道)|                 柏油|                 乾燥|               無缺陷|           無障礙物|                 良好|                        無號誌|           無號誌|                             無|                                未繪設車道線|                未繪設快慢車道分隔線|                                無|                  車與車|                    其他|                   其他|其他引起事故之違規或不當行為|                           機車|                       普通重型| false|  男|                  29|戴安全帽或繫安全帶(使用幼童安全椅)|                              未使用|              向前直行中|                       其他|                       不明|                       否|桃園市桃園區|      0|\n",
            "|20221227|      12|          A2|      晴|日間自然光線|               市區道路|            50|            四岔路|              交叉路口內|                 柏油|                 乾燥|               無缺陷|           無障礙物|                 良好|                  行車管制號誌|             正常|                     中央分向島|                              車道線(無標記)|                未繪設快慢車道分隔線|                                無|                  車與車|                    側撞|                 駕駛人|              右轉彎未依規定|                           機車|                       普通重型| false|  男|                  18|戴安全帽或繫安全帶(使用幼童安全椅)|                                不明|                  右轉彎|                       機車|                   右側車身|                       否|臺北市中山區|      0|\n",
            "|20221227|      12|          A2|      晴|日間自然光線|               市區道路|            50|            多岔路|              交叉路口內|                 柏油|                 乾燥|               無缺陷|           無障礙物|                 良好|                  行車管制號誌|             正常|                     中央分向島|                      禁止變換車道線(無標記)|                未繪設快慢車道分隔線|                                無|                  車與車|                    側撞|                 駕駛人|        違反特定標誌(線)禁制|                           機車|                       普通重型| false|  女|                  58|戴安全帽或繫安全帶(使用幼童安全椅)|                              未使用|                  左轉彎|                       機車|                     前車頭|                       否|臺中市北區五|      0|\n",
            "|20221227|      12|          A2|      晴|日間自然光線|               市區道路|            40|            三岔路|              交叉路口內|                 柏油|                 乾燥|               無缺陷|           無障礙物|                 良好|行車管制號誌(附設行人專用號誌)|             正常|                             無|                                未繪設車道線|                未繪設快慢車道分隔線|                                無|                  車與車|                    側撞|                 駕駛人|              左轉彎未依規定|                         小客車|                           自用| false|  男|                  32|戴安全帽或繫安全帶(使用幼童安全椅)|                              未使用|                  左轉彎|                       汽車|                     前車頭|                       否|臺南市北區東|      0|\n",
            "+--------+--------+------------+--------+------------+-----------------------+--------------+------------------+------------------------+---------------------+---------------------+---------------------+-------------------+---------------------+------------------------------+-----------------+-------------------------------+--------------------------------------------+------------------------------------+----------------------------------+------------------------+------------------------+-----------------------+----------------------------+-------------------------------+-------------------------------+------+----+--------------------+----------------------------------+------------------------------------+------------------------+---------------------------+---------------------------+-------------------------+------------+-------+\n",
            "only showing top 5 rows\n",
            "\n"
          ]
        }
      ],
      "source": [
        "data.show(5)"
      ]
    },
    {
      "attachments": {},
      "cell_type": "markdown",
      "metadata": {
        "id": "jjzOMLxRUr4I"
      },
      "source": [
        "### 將boolean轉成字串"
      ]
    },
    {
      "cell_type": "code",
      "execution_count": 13,
      "metadata": {
        "id": "KR4wnJgPa6CB"
      },
      "outputs": [],
      "source": [
        "data = data.withColumn(\"無或物\",col(\"無或物\").cast(\"string\"))\n",
        "data = data.withColumn(\"holiday\",col(\"holiday\").cast(\"string\"))\n"
      ]
    },
    {
      "attachments": {},
      "cell_type": "markdown",
      "metadata": {
        "id": "ywcIbGc2RQQ6"
      },
      "source": [
        "### 將類別特徵轉換成index"
      ]
    },
    {
      "cell_type": "code",
      "execution_count": 14,
      "metadata": {
        "id": "5Rya6GYmd4Ky"
      },
      "outputs": [
        {
          "name": "stderr",
          "output_type": "stream",
          "text": [
            "                                                                                \r"
          ]
        }
      ],
      "source": [
        "cat_list = [i for i in data.columns if i not in num_list]\n",
        "for i in cat_list:\n",
        "  indexer = StringIndexer(inputCol=i, outputCol=f\"{i}_numeric\").setHandleInvalid(\"keep\").fit(data)\n",
        "  data = indexer.transform(data).drop(i)\n",
        "cat_list = list(map(lambda x: x+\"_numeric\",cat_list))"
      ]
    },
    {
      "cell_type": "code",
      "execution_count": 15,
      "metadata": {
        "colab": {
          "base_uri": "https://localhost:8080/"
        },
        "id": "JcWveobRhaXp",
        "outputId": "7b2f439c-7644-408d-d512-43c662f2a21e"
      },
      "outputs": [
        {
          "name": "stdout",
          "output_type": "stream",
          "text": [
            "root\n",
            " |-- 發生日期: integer (nullable = true)\n",
            " |-- 發生時間: integer (nullable = true)\n",
            " |-- 速限-第1當事者: integer (nullable = true)\n",
            " |-- 當事者事故發生時年齡: integer (nullable = true)\n",
            " |-- 事故類別名稱_numeric: double (nullable = false)\n",
            " |-- 天候名稱_numeric: double (nullable = false)\n",
            " |-- 光線名稱_numeric: double (nullable = false)\n",
            " |-- 道路類別-第1當事者-名稱_numeric: double (nullable = false)\n",
            " |-- 道路型態子類別名稱_numeric: double (nullable = false)\n",
            " |-- 事故位置子類別名稱_numeric: double (nullable = false)\n",
            " |-- 路面狀況-路面鋪裝名稱_numeric: double (nullable = false)\n",
            " |-- 路面狀況-路面狀態名稱_numeric: double (nullable = false)\n",
            " |-- 路面狀況-路面缺陷名稱_numeric: double (nullable = false)\n",
            " |-- 道路障礙-障礙物名稱_numeric: double (nullable = false)\n",
            " |-- 道路障礙-視距品質名稱_numeric: double (nullable = false)\n",
            " |-- 號誌-號誌種類名稱_numeric: double (nullable = false)\n",
            " |-- 號誌-號誌動作名稱_numeric: double (nullable = false)\n",
            " |-- 車道劃分設施-分向設施大類別名稱_numeric: double (nullable = false)\n",
            " |-- 車道劃分設施-分道設施-快車道或一般車道間名稱_numeric: double (nullable = false)\n",
            " |-- 車道劃分設施-分道設施-快慢車道間名稱_numeric: double (nullable = false)\n",
            " |-- 車道劃分設施-分道設施-路面邊線名稱_numeric: double (nullable = false)\n",
            " |-- 事故類型及型態大類別名稱_numeric: double (nullable = false)\n",
            " |-- 事故類型及型態子類別名稱_numeric: double (nullable = false)\n",
            " |-- 肇因研判大類別名稱-主要_numeric: double (nullable = false)\n",
            " |-- 肇因研判子類別名稱-主要_numeric: double (nullable = false)\n",
            " |-- 當事者區分-類別-大類別名稱-車種_numeric: double (nullable = false)\n",
            " |-- 當事者區分-類別-子類別名稱-車種_numeric: double (nullable = false)\n",
            " |-- 無或物_numeric: double (nullable = false)\n",
            " |-- 性別_numeric: double (nullable = false)\n",
            " |-- 保護裝備名稱_numeric: double (nullable = false)\n",
            " |-- 行動電話或電腦或其他相類功能裝置名稱_numeric: double (nullable = false)\n",
            " |-- 當事者行動狀態子類別名稱_numeric: double (nullable = false)\n",
            " |-- 車輛撞擊部位大類別名稱-最初_numeric: double (nullable = false)\n",
            " |-- 車輛撞擊部位子類別名稱-最初_numeric: double (nullable = false)\n",
            " |-- 肇事逃逸類別名稱-是否肇逃_numeric: double (nullable = false)\n",
            " |-- site_id_numeric: double (nullable = false)\n",
            " |-- holiday_numeric: double (nullable = false)\n",
            "\n"
          ]
        }
      ],
      "source": [
        "data.printSchema()"
      ]
    },
    {
      "attachments": {},
      "cell_type": "markdown",
      "metadata": {
        "id": "Jhcs_-iDRa3T"
      },
      "source": [
        "### Imputation Missing Value\n"
      ]
    },
    {
      "cell_type": "code",
      "execution_count": 16,
      "metadata": {
        "id": "HxZmsdVYzGEU"
      },
      "outputs": [],
      "source": [
        "data = data.fillna(value=0)"
      ]
    },
    {
      "attachments": {},
      "cell_type": "markdown",
      "metadata": {
        "id": "udg_S47OZlQk"
      },
      "source": [
        "### 將特徵轉換成vector"
      ]
    },
    {
      "cell_type": "code",
      "execution_count": 17,
      "metadata": {
        "id": "P4MluY4BNHRC"
      },
      "outputs": [],
      "source": [
        "features = [i for i in data.columns if i != \"事故類別名稱_numeric\"]\n",
        "vector = VectorAssembler(inputCols=features, outputCol='features')\n",
        "transformed_data = vector.transform(data)"
      ]
    },
    {
      "cell_type": "code",
      "execution_count": 18,
      "metadata": {
        "colab": {
          "base_uri": "https://localhost:8080/"
        },
        "id": "NRGExA0efYVc",
        "outputId": "2f908e7c-2e37-4f56-d127-74d9d9ce2007"
      },
      "outputs": [
        {
          "name": "stdout",
          "output_type": "stream",
          "text": [
            "root\n",
            " |-- 發生日期: integer (nullable = true)\n",
            " |-- 發生時間: integer (nullable = true)\n",
            " |-- 速限-第1當事者: integer (nullable = true)\n",
            " |-- 當事者事故發生時年齡: integer (nullable = true)\n",
            " |-- 事故類別名稱_numeric: double (nullable = false)\n",
            " |-- 天候名稱_numeric: double (nullable = false)\n",
            " |-- 光線名稱_numeric: double (nullable = false)\n",
            " |-- 道路類別-第1當事者-名稱_numeric: double (nullable = false)\n",
            " |-- 道路型態子類別名稱_numeric: double (nullable = false)\n",
            " |-- 事故位置子類別名稱_numeric: double (nullable = false)\n",
            " |-- 路面狀況-路面鋪裝名稱_numeric: double (nullable = false)\n",
            " |-- 路面狀況-路面狀態名稱_numeric: double (nullable = false)\n",
            " |-- 路面狀況-路面缺陷名稱_numeric: double (nullable = false)\n",
            " |-- 道路障礙-障礙物名稱_numeric: double (nullable = false)\n",
            " |-- 道路障礙-視距品質名稱_numeric: double (nullable = false)\n",
            " |-- 號誌-號誌種類名稱_numeric: double (nullable = false)\n",
            " |-- 號誌-號誌動作名稱_numeric: double (nullable = false)\n",
            " |-- 車道劃分設施-分向設施大類別名稱_numeric: double (nullable = false)\n",
            " |-- 車道劃分設施-分道設施-快車道或一般車道間名稱_numeric: double (nullable = false)\n",
            " |-- 車道劃分設施-分道設施-快慢車道間名稱_numeric: double (nullable = false)\n",
            " |-- 車道劃分設施-分道設施-路面邊線名稱_numeric: double (nullable = false)\n",
            " |-- 事故類型及型態大類別名稱_numeric: double (nullable = false)\n",
            " |-- 事故類型及型態子類別名稱_numeric: double (nullable = false)\n",
            " |-- 肇因研判大類別名稱-主要_numeric: double (nullable = false)\n",
            " |-- 肇因研判子類別名稱-主要_numeric: double (nullable = false)\n",
            " |-- 當事者區分-類別-大類別名稱-車種_numeric: double (nullable = false)\n",
            " |-- 當事者區分-類別-子類別名稱-車種_numeric: double (nullable = false)\n",
            " |-- 無或物_numeric: double (nullable = false)\n",
            " |-- 性別_numeric: double (nullable = false)\n",
            " |-- 保護裝備名稱_numeric: double (nullable = false)\n",
            " |-- 行動電話或電腦或其他相類功能裝置名稱_numeric: double (nullable = false)\n",
            " |-- 當事者行動狀態子類別名稱_numeric: double (nullable = false)\n",
            " |-- 車輛撞擊部位大類別名稱-最初_numeric: double (nullable = false)\n",
            " |-- 車輛撞擊部位子類別名稱-最初_numeric: double (nullable = false)\n",
            " |-- 肇事逃逸類別名稱-是否肇逃_numeric: double (nullable = false)\n",
            " |-- site_id_numeric: double (nullable = false)\n",
            " |-- holiday_numeric: double (nullable = false)\n",
            " |-- features: vector (nullable = true)\n",
            "\n"
          ]
        }
      ],
      "source": [
        "transformed_data.printSchema()"
      ]
    },
    {
      "cell_type": "code",
      "execution_count": 19,
      "metadata": {
        "colab": {
          "base_uri": "https://localhost:8080/"
        },
        "id": "BywJ_C5waPU1",
        "outputId": "ea042757-e630-486d-81ec-c14eab3cc180"
      },
      "outputs": [
        {
          "name": "stderr",
          "output_type": "stream",
          "text": [
            "[Stage 141:================================>                       (8 + 6) / 14]\r"
          ]
        },
        {
          "name": "stdout",
          "output_type": "stream",
          "text": [
            "+--------------------+-------+\n",
            "|事故類別名稱_numeric|  count|\n",
            "+--------------------+-------+\n",
            "|                 0.0|1415429|\n",
            "|                 1.0|   6991|\n",
            "+--------------------+-------+\n",
            "\n"
          ]
        },
        {
          "name": "stderr",
          "output_type": "stream",
          "text": [
            "                                                                                \r"
          ]
        }
      ],
      "source": [
        "transformed_data.groupBy(\"事故類別名稱_numeric\").count().show()"
      ]
    },
    {
      "attachments": {},
      "cell_type": "markdown",
      "metadata": {
        "id": "nm-ChqPdVcJC"
      },
      "source": [
        "### 切分訓練集以及測試集"
      ]
    },
    {
      "cell_type": "code",
      "execution_count": 20,
      "metadata": {
        "id": "jPX68o2MVbVx"
      },
      "outputs": [],
      "source": [
        "train,test = transformed_data.randomSplit([0.7, 0.3], 24)"
      ]
    },
    {
      "attachments": {},
      "cell_type": "markdown",
      "metadata": {
        "id": "9o9KUg6lU16W"
      },
      "source": [
        "### 計算訓練集分類權重"
      ]
    },
    {
      "cell_type": "code",
      "execution_count": 21,
      "metadata": {
        "colab": {
          "base_uri": "https://localhost:8080/"
        },
        "id": "qJ_-sfNJQbi8",
        "outputId": "3aef0317-e229-42a5-aaea-e0ea7c929388"
      },
      "outputs": [
        {
          "name": "stderr",
          "output_type": "stream",
          "text": [
            "23/05/28 11:20:40 WARN RowBasedKeyValueBatch: Calling spill() on RowBasedKeyValueBatch. Will not spill but return 0.\n",
            "23/05/28 11:20:40 WARN RowBasedKeyValueBatch: Calling spill() on RowBasedKeyValueBatch. Will not spill but return 0.\n",
            "23/05/28 11:20:40 WARN RowBasedKeyValueBatch: Calling spill() on RowBasedKeyValueBatch. Will not spill but return 0.\n",
            "23/05/28 11:20:40 WARN RowBasedKeyValueBatch: Calling spill() on RowBasedKeyValueBatch. Will not spill but return 0.\n",
            "23/05/28 11:20:40 WARN RowBasedKeyValueBatch: Calling spill() on RowBasedKeyValueBatch. Will not spill but return 0.\n",
            "23/05/28 11:20:40 WARN RowBasedKeyValueBatch: Calling spill() on RowBasedKeyValueBatch. Will not spill but return 0.\n",
            "23/05/28 11:20:40 WARN RowBasedKeyValueBatch: Calling spill() on RowBasedKeyValueBatch. Will not spill but return 0.\n",
            "23/05/28 11:20:41 WARN RowBasedKeyValueBatch: Calling spill() on RowBasedKeyValueBatch. Will not spill but return 0.\n",
            "                                                                                \r"
          ]
        },
        {
          "name": "stdout",
          "output_type": "stream",
          "text": [
            "{0.0: 0.5024682249470879, 1.0: 101.78736454712738}\n"
          ]
        }
      ],
      "source": [
        "import numpy as np\n",
        "y_collect = train.select(\"事故類別名稱_numeric\").groupBy(\"事故類別名稱_numeric\").count().collect()\n",
        "unique_y = [x[\"事故類別名稱_numeric\"] for x in y_collect]\n",
        "total_y = sum([x[\"count\"] for x in y_collect])\n",
        "unique_y_count = len(y_collect)\n",
        "bin_count = [x[\"count\"] for x in y_collect]\n",
        "\n",
        "class_weights_spark = {i: ii for i, ii in zip(unique_y, total_y / (unique_y_count * np.array(bin_count)))}\n",
        "print(class_weights_spark)\n"
      ]
    },
    {
      "cell_type": "code",
      "execution_count": 22,
      "metadata": {
        "colab": {
          "base_uri": "https://localhost:8080/"
        },
        "id": "ZsDVimvhQ11H",
        "outputId": "a321fe9e-3dad-4307-86e5-bd130bfc61d7"
      },
      "outputs": [
        {
          "name": "stderr",
          "output_type": "stream",
          "text": [
            "/Users/shishihh/anaconda3/lib/python3.10/site-packages/pyspark/sql/column.py:322: FutureWarning: A column as 'key' in getItem is deprecated as of Spark 3.0, and will not be supported in the future release. Use `column[key]` or `column.key` syntax instead.\n",
            "  warnings.warn(\n"
          ]
        }
      ],
      "source": [
        "mapping_expr = create_map([lit(x) for x in chain(*class_weights_spark.items())])\n",
        "train = train.withColumn(\"weight\", mapping_expr.getItem(col(\"事故類別名稱_numeric\")))"
      ]
    },
    {
      "cell_type": "code",
      "execution_count": 23,
      "metadata": {
        "colab": {
          "base_uri": "https://localhost:8080/"
        },
        "id": "ewG4ck8mRbHV",
        "outputId": "bec9837d-9733-4642-8504-af91845ad356"
      },
      "outputs": [
        {
          "name": "stderr",
          "output_type": "stream",
          "text": [
            "[Stage 149:>                                                        (0 + 1) / 1]\r"
          ]
        },
        {
          "name": "stdout",
          "output_type": "stream",
          "text": [
            "+--------+--------+--------------+--------------------+--------------------+----------------+----------------+-------------------------------+--------------------------+--------------------------+-----------------------------+-----------------------------+-----------------------------+---------------------------+-----------------------------+-------------------------+-------------------------+---------------------------------------+----------------------------------------------------+--------------------------------------------+------------------------------------------+--------------------------------+--------------------------------+-------------------------------+-------------------------------+---------------------------------------+---------------------------------------+--------------+------------+--------------------+--------------------------------------------+--------------------------------+-----------------------------------+-----------------------------------+---------------------------------+---------------+---------------+--------------------+------------------+\n",
            "|發生日期|發生時間|速限-第1當事者|當事者事故發生時年齡|事故類別名稱_numeric|天候名稱_numeric|光線名稱_numeric|道路類別-第1當事者-名稱_numeric|道路型態子類別名稱_numeric|事故位置子類別名稱_numeric|路面狀況-路面鋪裝名稱_numeric|路面狀況-路面狀態名稱_numeric|路面狀況-路面缺陷名稱_numeric|道路障礙-障礙物名稱_numeric|道路障礙-視距品質名稱_numeric|號誌-號誌種類名稱_numeric|號誌-號誌動作名稱_numeric|車道劃分設施-分向設施大類別名稱_numeric|車道劃分設施-分道設施-快車道或一般車道間名稱_numeric|車道劃分設施-分道設施-快慢車道間名稱_numeric|車道劃分設施-分道設施-路面邊線名稱_numeric|事故類型及型態大類別名稱_numeric|事故類型及型態子類別名稱_numeric|肇因研判大類別名稱-主要_numeric|肇因研判子類別名稱-主要_numeric|當事者區分-類別-大類別名稱-車種_numeric|當事者區分-類別-子類別名稱-車種_numeric|無或物_numeric|性別_numeric|保護裝備名稱_numeric|行動電話或電腦或其他相類功能裝置名稱_numeric|當事者行動狀態子類別名稱_numeric|車輛撞擊部位大類別名稱-最初_numeric|車輛撞擊部位子類別名稱-最初_numeric|肇事逃逸類別名稱-是否肇逃_numeric|site_id_numeric|holiday_numeric|            features|            weight|\n",
            "+--------+--------+--------------+--------------------+--------------------+----------------+----------------+-------------------------------+--------------------------+--------------------------+-----------------------------+-----------------------------+-----------------------------+---------------------------+-----------------------------+-------------------------+-------------------------+---------------------------------------+----------------------------------------------------+--------------------------------------------+------------------------------------------+--------------------------------+--------------------------------+-------------------------------+-------------------------------+---------------------------------------+---------------------------------------+--------------+------------+--------------------+--------------------------------------------+--------------------------------+-----------------------------------+-----------------------------------+---------------------------------+---------------+---------------+--------------------+------------------+\n",
            "|20201204|      13|            30|                  19|                 0.0|             1.0|             0.0|                            0.0|                       1.0|                       0.0|                          0.0|                          1.0|                          0.0|                        0.0|                          0.0|                      0.0|                      0.0|                                    3.0|                                                 0.0|                                         0.0|                                       1.0|                             0.0|                             4.0|                            0.0|                            0.0|                                    1.0|                                    8.0|           0.0|         0.0|                 0.0|                                         0.0|                             0.0|                                1.0|                                4.0|                              0.0|           33.0|            0.0|(36,[0,1,2,3,4,7,...|0.5024682249470879|\n",
            "|20201204|      13|            30|                  21|                 0.0|             0.0|             0.0|                            0.0|                       2.0|                       0.0|                          0.0|                          0.0|                          0.0|                        0.0|                          0.0|                      0.0|                      0.0|                                    1.0|                                                 0.0|                                         0.0|                                       0.0|                             0.0|                             0.0|                            0.0|                            0.0|                                    0.0|                                    0.0|           0.0|         1.0|                 0.0|                                         0.0|                             1.0|                                0.0|                                0.0|                              0.0|           26.0|            0.0|(36,[0,1,2,3,7,16...|0.5024682249470879|\n",
            "|20201204|      13|            30|                  23|                 0.0|             1.0|             0.0|                            0.0|                       1.0|                       2.0|                          0.0|                          1.0|                          0.0|                        0.0|                          0.0|                      1.0|                      1.0|                                    1.0|                                                 1.0|                                         0.0|                                       0.0|                             0.0|                             1.0|                            0.0|                            8.0|                                    1.0|                                    1.0|           0.0|         0.0|                 0.0|                                         0.0|                             4.0|                                1.0|                                2.0|                              0.0|          116.0|            0.0|(36,[0,1,2,3,4,7,...|0.5024682249470879|\n",
            "|20201204|      13|            30|                  25|                 0.0|             0.0|             0.0|                            1.0|                       1.0|                       0.0|                          0.0|                          0.0|                          0.0|                        0.0|                          0.0|                      0.0|                      0.0|                                    0.0|                                                 0.0|                                         0.0|                                       1.0|                             0.0|                             4.0|                            0.0|                            0.0|                                    0.0|                                    0.0|           0.0|         1.0|                 0.0|                                         0.0|                             0.0|                                0.0|                                0.0|                              0.0|          290.0|            0.0|(36,[0,1,2,3,6,7,...|0.5024682249470879|\n",
            "|20201204|      13|            30|                  30|                 0.0|             0.0|             0.0|                            0.0|                       2.0|                       0.0|                          0.0|                          0.0|                          0.0|                        0.0|                          0.0|                      0.0|                      0.0|                                    0.0|                                                 0.0|                                         0.0|                                       0.0|                             0.0|                             0.0|                            0.0|                            0.0|                                    0.0|                                    0.0|           0.0|         1.0|                 1.0|                                         1.0|                             0.0|                                2.0|                                3.0|                              0.0|           62.0|            0.0|(36,[0,1,2,3,7,27...|0.5024682249470879|\n",
            "|20201204|      13|            30|                  43|                 0.0|             0.0|             0.0|                            0.0|                       2.0|                       0.0|                          0.0|                          0.0|                          0.0|                        0.0|                          0.0|                      0.0|                      0.0|                                    0.0|                                                 0.0|                                         0.0|                                       1.0|                             0.0|                             0.0|                            0.0|                            3.0|                                    1.0|                                    1.0|           0.0|         0.0|                 1.0|                                         1.0|                             1.0|                                1.0|                                0.0|                              0.0|          288.0|            0.0|(36,[0,1,2,3,7,19...|0.5024682249470879|\n",
            "|20201204|      13|            30|                  49|                 0.0|             1.0|             0.0|                            0.0|                       1.0|                       0.0|                          0.0|                          1.0|                          0.0|                        0.0|                          0.0|                      0.0|                      0.0|                                    3.0|                                                 1.0|                                         0.0|                                       1.0|                             0.0|                             0.0|                            0.0|                            3.0|                                    1.0|                                    3.0|           0.0|         0.0|                 0.0|                                         0.0|                             1.0|                                1.0|                                5.0|                              0.0|           37.0|            0.0|(36,[0,1,2,3,4,7,...|0.5024682249470879|\n",
            "|20201204|      13|            40|                  19|                 0.0|             0.0|             0.0|                            0.0|                       1.0|                       2.0|                          0.0|                          0.0|                          0.0|                        0.0|                          0.0|                      1.0|                      1.0|                                    2.0|                                                 3.0|                                         1.0|                                       0.0|                             0.0|                             2.0|                            0.0|                            1.0|                                    0.0|                                    0.0|           0.0|         1.0|                 0.0|                                         0.0|                             0.0|                                0.0|                                0.0|                              0.0|           56.0|            0.0|(36,[0,1,2,3,7,8,...|0.5024682249470879|\n",
            "|20201204|      13|            40|                  23|                 0.0|             0.0|             0.0|                            0.0|                       0.0|                       3.0|                          0.0|                          0.0|                          0.0|                        0.0|                          0.0|                      1.0|                      1.0|                                    2.0|                                                 1.0|                                         1.0|                                       1.0|                             0.0|                             3.0|                            0.0|                            4.0|                                    0.0|                                    0.0|           0.0|         1.0|                 0.0|                                         0.0|                             0.0|                                0.0|                                2.0|                              0.0|           21.0|            0.0|(36,[0,1,2,3,8,14...|0.5024682249470879|\n",
            "|20201204|      13|            40|                  25|                 0.0|             0.0|             0.0|                            0.0|                       9.0|                       6.0|                          0.0|                          0.0|                          0.0|                        0.0|                          0.0|                      0.0|                      0.0|                                    0.0|                                                 1.0|                                         1.0|                                       0.0|                             0.0|                             0.0|                            0.0|                            7.0|                                    1.0|                                    1.0|           0.0|         0.0|                 0.0|                                         0.0|                             2.0|                                1.0|                                4.0|                              0.0|          107.0|            0.0|(36,[0,1,2,3,7,8,...|0.5024682249470879|\n",
            "+--------+--------+--------------+--------------------+--------------------+----------------+----------------+-------------------------------+--------------------------+--------------------------+-----------------------------+-----------------------------+-----------------------------+---------------------------+-----------------------------+-------------------------+-------------------------+---------------------------------------+----------------------------------------------------+--------------------------------------------+------------------------------------------+--------------------------------+--------------------------------+-------------------------------+-------------------------------+---------------------------------------+---------------------------------------+--------------+------------+--------------------+--------------------------------------------+--------------------------------+-----------------------------------+-----------------------------------+---------------------------------+---------------+---------------+--------------------+------------------+\n",
            "only showing top 10 rows\n",
            "\n"
          ]
        },
        {
          "name": "stderr",
          "output_type": "stream",
          "text": [
            "                                                                                \r"
          ]
        }
      ],
      "source": [
        "train.show(10)"
      ]
    },
    {
      "attachments": {},
      "cell_type": "markdown",
      "metadata": {
        "id": "wDTy8RfVaUVW"
      },
      "source": [
        "## Model training"
      ]
    },
    {
      "attachments": {},
      "cell_type": "markdown",
      "metadata": {
        "id": "tl2O55s7VEAZ"
      },
      "source": [
        "### 自定義cross validation 模型"
      ]
    },
    {
      "cell_type": "code",
      "execution_count": 24,
      "metadata": {
        "id": "f9qzlDJ-9xe4"
      },
      "outputs": [],
      "source": [
        "class CrossValidatorVerbose(CrossValidator):\n",
        "    def _fit(self, dataset):\n",
        "        est = self.getOrDefault(self.estimator)\n",
        "        eva = self.getOrDefault(self.evaluator)\n",
        "        nFolds = self.getOrDefault(self.numFolds)\n",
        "        seed = self.getOrDefault(self.seed)\n",
        "        h = 1.0 / nFolds\n",
        "\n",
        "        randCol = self.uid + \"_rand\"\n",
        "        df = dataset.select(\"*\", rand(seed).alias(randCol))\n",
        "        f1_val = []\n",
        "        f1_train = []\n",
        "\n",
        "        for i in range(nFolds):\n",
        "            foldNum = i + 1\n",
        "            validateLB = i * h\n",
        "            validateUB = (i + 1) * h\n",
        "            condition = (df[randCol] >= validateLB) & (df[randCol] < validateUB)\n",
        "            validation = df.filter(condition)\n",
        "            train = df.filter(~condition)\n",
        "            model = est.fit(train)\n",
        "            prediction_val = model.transform(validation)\n",
        "            prediction_train = model.transform(train)\n",
        "            metric_val = (eva[0].evaluate(prediction_val)+eva[1].evaluate(prediction_val))*0.5\n",
        "            f1_val.append(metric_val)\n",
        "            metric_train = (eva[0].evaluate(prediction_train)+eva[1].evaluate(prediction_train))*0.5\n",
        "            f1_train.append(metric_train)\n",
        "            print(f\"Fold {foldNum}  | F1-score | Validation: {metric_val} | Train: {metric_train}\")\n",
        "        \n",
        "        Allmodel = est.fit(dataset)        \n",
        "        avgMetrics = sum(f1_val)/len(f1_val)\n",
        "        print(f\"Average | F1-score | Validation: {avgMetrics} | Train: {sum(f1_train)/len(f1_train)}\")\n",
        "\n",
        "        return self._copyValues(CrossValidatorModel(Allmodel, avgMetrics))\n",
        "# Reference: https://stackoverflow.com/questions/53600615/cross-validation-metrics-with-pyspark"
      ]
    },
    {
      "cell_type": "code",
      "execution_count": 25,
      "metadata": {
        "id": "yp3j297yM4lq"
      },
      "outputs": [],
      "source": [
        "rf = RandomForestClassifier(featuresCol = 'features', labelCol = '事故類別名稱_numeric',\n",
        "                subsamplingRate = 0.8, featureSubsetStrategy = \"sqrt\", numTrees = 20, maxDepth=10, weightCol=\"weight\")\n",
        "#grid = ParamGridBuilder().build()\n",
        "\n",
        "#Create ParamGrid for Cross Validation\n",
        "grid = ParamGridBuilder().build()\n",
        "#               .addGrid(rf.maxDepth, [9,10,12])\\\n",
        "#               .addGrid(rf.maxBins, [10,20,32])\\\n",
        "#               .addGrid(rf.numTrees, [5,10,15])\\\n",
        "\n",
        "evaluator_0 = MulticlassClassificationEvaluator(metricName='fMeasureByLabel', metricLabel = 0.0, beta=1.0, labelCol = '事故類別名稱_numeric')\n",
        "evaluator_1 = MulticlassClassificationEvaluator(metricName='fMeasureByLabel', metricLabel = 1.0, beta=1.0, labelCol = '事故類別名稱_numeric')"
      ]
    },
    {
      "cell_type": "code",
      "execution_count": 26,
      "metadata": {
        "id": "Baj-q7hacrWL"
      },
      "outputs": [],
      "source": [
        "# random forest model\n",
        "# model = rf.fit(train)\n",
        "# prediction_train = model.transform(train)\n",
        "# prediction_test = model.transform(test)\n",
        "# metric_train = (evaluator_0.evaluate(prediction_train) + evaluator_1.evaluate(prediction_train))*0.5\n",
        "# metric_test = (evaluator_0.evaluate(prediction_test) + evaluator_1.evaluate(prediction_test))*0.5\n",
        "# print(f\"F1-score | Train: {metric_train} | Test: {metric_test}\")"
      ]
    },
    {
      "cell_type": "code",
      "execution_count": 27,
      "metadata": {
        "id": "rHScDB9fNj35"
      },
      "outputs": [],
      "source": [
        "cv = CrossValidatorVerbose(estimator=rf, estimatorParamMaps=grid, evaluator=[evaluator_0,evaluator_1], seed = 20230515, numFolds=5)"
      ]
    },
    {
      "cell_type": "code",
      "execution_count": 28,
      "metadata": {
        "colab": {
          "base_uri": "https://localhost:8080/"
        },
        "id": "9hdAsfk0NwGK",
        "outputId": "0cae4c85-894f-41fa-da17-a5d3bec329c5"
      },
      "outputs": [
        {
          "name": "stderr",
          "output_type": "stream",
          "text": [
            "23/05/28 11:22:36 WARN DAGScheduler: Broadcasting large task binary with size 1270.5 KiB\n",
            "23/05/28 11:22:42 WARN DAGScheduler: Broadcasting large task binary with size 1776.3 KiB\n",
            "23/05/28 11:22:49 WARN DAGScheduler: Broadcasting large task binary with size 1458.0 KiB\n",
            "23/05/28 11:23:07 WARN DAGScheduler: Broadcasting large task binary with size 1458.0 KiB\n",
            "23/05/28 11:23:29 WARN DAGScheduler: Broadcasting large task binary with size 1458.2 KiB\n",
            "23/05/28 11:23:54 WARN DAGScheduler: Broadcasting large task binary with size 1458.2 KiB\n",
            "                                                                                \r"
          ]
        },
        {
          "name": "stdout",
          "output_type": "stream",
          "text": [
            "Fold 1  | F1-score | Validation: 0.5008062861059017 | Train: 0.5077225300221665\n"
          ]
        },
        {
          "name": "stderr",
          "output_type": "stream",
          "text": [
            "23/05/28 11:25:52 WARN DAGScheduler: Broadcasting large task binary with size 1233.7 KiB\n",
            "23/05/28 11:25:55 WARN DAGScheduler: Broadcasting large task binary with size 1720.2 KiB\n",
            "23/05/28 11:26:01 WARN DAGScheduler: Broadcasting large task binary with size 1418.0 KiB\n",
            "23/05/28 11:26:18 WARN DAGScheduler: Broadcasting large task binary with size 1418.0 KiB\n",
            "23/05/28 11:26:40 WARN DAGScheduler: Broadcasting large task binary with size 1418.1 KiB\n",
            "23/05/28 11:27:04 WARN DAGScheduler: Broadcasting large task binary with size 1418.1 KiB\n",
            "                                                                                \r"
          ]
        },
        {
          "name": "stdout",
          "output_type": "stream",
          "text": [
            "Fold 2  | F1-score | Validation: 0.497039098420895 | Train: 0.5021764512840404\n"
          ]
        },
        {
          "name": "stderr",
          "output_type": "stream",
          "text": [
            "23/05/28 11:28:58 WARN DAGScheduler: Broadcasting large task binary with size 1228.7 KiB\n",
            "23/05/28 11:29:03 WARN DAGScheduler: Broadcasting large task binary with size 1706.0 KiB\n",
            "23/05/28 11:29:10 WARN DAGScheduler: Broadcasting large task binary with size 1407.9 KiB\n",
            "23/05/28 11:29:33 WARN DAGScheduler: Broadcasting large task binary with size 1407.9 KiB\n",
            "23/05/28 11:29:55 WARN DAGScheduler: Broadcasting large task binary with size 1408.0 KiB\n",
            "23/05/28 11:30:19 WARN DAGScheduler: Broadcasting large task binary with size 1408.0 KiB\n",
            "                                                                                \r"
          ]
        },
        {
          "name": "stdout",
          "output_type": "stream",
          "text": [
            "Fold 3  | F1-score | Validation: 0.4994496651052913 | Train: 0.506208243508323\n"
          ]
        },
        {
          "name": "stderr",
          "output_type": "stream",
          "text": [
            "23/05/28 11:32:27 WARN DAGScheduler: Broadcasting large task binary with size 1240.7 KiB\n",
            "23/05/28 11:32:34 WARN DAGScheduler: Broadcasting large task binary with size 1730.1 KiB\n",
            "23/05/28 11:32:42 WARN DAGScheduler: Broadcasting large task binary with size 1427.7 KiB\n",
            "23/05/28 11:32:59 WARN DAGScheduler: Broadcasting large task binary with size 1427.7 KiB\n",
            "23/05/28 11:33:20 WARN DAGScheduler: Broadcasting large task binary with size 1427.8 KiB\n",
            "23/05/28 11:33:43 WARN DAGScheduler: Broadcasting large task binary with size 1427.8 KiB\n",
            "                                                                                \r"
          ]
        },
        {
          "name": "stdout",
          "output_type": "stream",
          "text": [
            "Fold 4  | F1-score | Validation: 0.49894605379913887 | Train: 0.5065818632675316\n"
          ]
        },
        {
          "name": "stderr",
          "output_type": "stream",
          "text": [
            "23/05/28 11:35:49 WARN DAGScheduler: Broadcasting large task binary with size 1297.4 KiB\n",
            "23/05/28 11:35:54 WARN DAGScheduler: Broadcasting large task binary with size 1822.5 KiB\n",
            "23/05/28 11:36:01 WARN DAGScheduler: Broadcasting large task binary with size 1492.4 KiB\n",
            "23/05/28 11:36:17 WARN DAGScheduler: Broadcasting large task binary with size 1492.4 KiB\n",
            "23/05/28 11:36:38 WARN DAGScheduler: Broadcasting large task binary with size 1492.6 KiB\n",
            "23/05/28 11:36:59 WARN DAGScheduler: Broadcasting large task binary with size 1492.6 KiB\n",
            "                                                                                \r"
          ]
        },
        {
          "name": "stdout",
          "output_type": "stream",
          "text": [
            "Fold 5  | F1-score | Validation: 0.5030688534852885 | Train: 0.5090170265293392\n"
          ]
        },
        {
          "name": "stderr",
          "output_type": "stream",
          "text": [
            "23/05/28 11:38:59 WARN DAGScheduler: Broadcasting large task binary with size 1285.1 KiB\n",
            "23/05/28 11:39:04 WARN DAGScheduler: Broadcasting large task binary with size 1828.9 KiB\n",
            "                                                                                \r"
          ]
        },
        {
          "name": "stdout",
          "output_type": "stream",
          "text": [
            "Average | F1-score | Validation: 0.499861991383303 | Train: 0.5063412229222801\n"
          ]
        }
      ],
      "source": [
        "cvModel = cv.fit(train)"
      ]
    },
    {
      "attachments": {},
      "cell_type": "markdown",
      "metadata": {
        "id": "IjhI3x4VV2lp"
      },
      "source": [
        "### 儲存模型"
      ]
    },
    {
      "cell_type": "code",
      "execution_count": 29,
      "metadata": {
        "id": "DzjYdDOdeXTW"
      },
      "outputs": [],
      "source": [
        "model_path = \"cv_model_train_weight_5\"\n",
        "cvModel.bestModel.save(model_path)"
      ]
    },
    {
      "attachments": {},
      "cell_type": "markdown",
      "metadata": {
        "id": "2RlPakPqV8v4"
      },
      "source": [
        "## Evaluate"
      ]
    },
    {
      "attachments": {},
      "cell_type": "markdown",
      "metadata": {
        "id": "la4flC_WV6At"
      },
      "source": [
        "### load model"
      ]
    },
    {
      "cell_type": "code",
      "execution_count": 30,
      "metadata": {
        "id": "xKdSLX1Cpp0p"
      },
      "outputs": [],
      "source": [
        "model = RandomForestClassificationModel.load(model_path)"
      ]
    },
    {
      "attachments": {},
      "cell_type": "markdown",
      "metadata": {},
      "source": [
        "### Prediction"
      ]
    },
    {
      "cell_type": "code",
      "execution_count": 31,
      "metadata": {
        "id": "cLcK9FF4p7Qw"
      },
      "outputs": [
        {
          "name": "stderr",
          "output_type": "stream",
          "text": [
            "23/05/28 11:39:15 WARN DAGScheduler: Broadcasting large task binary with size 1503.9 KiB\n",
            "23/05/28 11:39:41 WARN DAGScheduler: Broadcasting large task binary with size 1512.4 KiB\n",
            "23/05/28 11:40:01 WARN DAGScheduler: Broadcasting large task binary with size 1512.4 KiB\n",
            "                                                                                \r"
          ]
        }
      ],
      "source": [
        "prediction_test = model.transform(test)\n",
        "auroc_evaluator = BinaryClassificationEvaluator(metricName = 'areaUnderROC',labelCol = '事故類別名稱_numeric')\n",
        "test_auroc = auroc_evaluator.evaluate(prediction_test)\n",
        "metric_test = (evaluator_0.evaluate(prediction_test) + evaluator_1.evaluate(prediction_test))*0.5"
      ]
    },
    {
      "cell_type": "code",
      "execution_count": 32,
      "metadata": {
        "colab": {
          "base_uri": "https://localhost:8080/"
        },
        "id": "rqYdARMn4tQS",
        "outputId": "78979df5-547d-4066-b7d0-7bbceb85c787"
      },
      "outputs": [
        {
          "name": "stdout",
          "output_type": "stream",
          "text": [
            "F1-Score | Test: 0.4942965416961722\n",
            "AUROC    | Test: 0.8432168066408923\n"
          ]
        }
      ],
      "source": [
        "print(f\"F1-Score | Test: {metric_test}\")\n",
        "print(f\"AUROC    | Test: {test_auroc}\")"
      ]
    },
    {
      "cell_type": "code",
      "execution_count": 33,
      "metadata": {
        "colab": {
          "base_uri": "https://localhost:8080/"
        },
        "id": "fvf3Stuy8Ucp",
        "outputId": "cd9a6da4-1d85-411c-eecc-1e9ac54fe1be"
      },
      "outputs": [
        {
          "name": "stderr",
          "output_type": "stream",
          "text": [
            "23/05/28 11:40:38 WARN DAGScheduler: Broadcasting large task binary with size 1501.8 KiB\n",
            "                                                                                \r"
          ]
        },
        {
          "name": "stdout",
          "output_type": "stream",
          "text": [
            "              precision    recall  f1-score   support\n",
            "\n",
            "         0.0       1.00      0.89      0.94    424636\n",
            "         1.0       0.03      0.61      0.05      2100\n",
            "\n",
            "    accuracy                           0.89    426736\n",
            "   macro avg       0.51      0.75      0.49    426736\n",
            "weighted avg       0.99      0.89      0.93    426736\n",
            "\n"
          ]
        }
      ],
      "source": [
        "y_true = prediction_test.select(['事故類別名稱_numeric']).collect()\n",
        "y_pred = prediction_test.select(['prediction']).collect()\n",
        "print(classification_report(y_true, y_pred))"
      ]
    },
    {
      "attachments": {},
      "cell_type": "markdown",
      "metadata": {
        "id": "NlRW10JiWIGI"
      },
      "source": [
        "### Confusion matrix"
      ]
    },
    {
      "cell_type": "code",
      "execution_count": 34,
      "metadata": {
        "colab": {
          "base_uri": "https://localhost:8080/",
          "height": 469
        },
        "id": "T6e2jkCG_j1h",
        "outputId": "23e1dd6c-0f70-4331-ca51-9290a1118663"
      },
      "outputs": [
        {
          "data": {
            "text/plain": [
              "Text(0.5, 1.0, 'Testing set')"
            ]
          },
          "execution_count": 34,
          "metadata": {},
          "output_type": "execute_result"
        },
        {
          "data": {
            "image/png": "[encoded data removed]",
            "text/plain": [
              "<Figure size 640x480 with 2 Axes>"
            ]
          },
          "metadata": {},
          "output_type": "display_data"
        }
      ],
      "source": [
        "cm = confusion_matrix(y_true,y_pred)\n",
        "cm_matrix_1 = pd.DataFrame(data=cm, index=['Actual Negative:0', 'Actual Positive:1'], columns=['Predict Negative:0','Predict Positive:1'])\n",
        "ax = sns.heatmap(cm_matrix_1, annot=True, fmt='d', cmap='YlGnBu')\n",
        "ax.set_title(\"Testing set\")"
      ]
    },
    {
      "attachments": {},
      "cell_type": "markdown",
      "metadata": {
        "id": "kXjphba7WLjp"
      },
      "source": [
        "### Feature importance"
      ]
    },
    {
      "cell_type": "code",
      "execution_count": 35,
      "metadata": {
        "colab": {
          "base_uri": "https://localhost:8080/",
          "height": 430
        },
        "id": "avlkGhi1xNmA",
        "outputId": "cdf27aff-c49a-4e3a-c06f-b46cabe27732"
      },
      "outputs": [
        {
          "data": {
            "image/png": "[encoded data removed]",
            "text/plain": [
              "<Figure size 640x480 with 1 Axes>"
            ]
          },
          "metadata": {},
          "output_type": "display_data"
        }
      ],
      "source": [
        "from matplotlib.font_manager import FontProperties as font\n",
        "import matplotlib.pyplot as plt\n",
        "font1 = font(fname=\"Noto_Sans_TC/NotoSansTC-Regular.otf\")\n",
        "featureImportances = model.featureImportances.toArray()\n",
        "f = {\"index\":features, \"FI\" : featureImportances}\n",
        "FI = pd.DataFrame(f)\n",
        "FI = FI.set_index('index')\n",
        "FI_10 = FI.nlargest(10,'FI').iloc[::-1]\n",
        "axes = FI_10.plot(kind='barh',legend=None)\n",
        "plt.ylabel(' ',fontproperties=font1)\n",
        "for label in axes.get_yticklabels():\n",
        "    label.set_fontproperties(font1)"
      ]
    },
    {
      "cell_type": "code",
      "execution_count": 36,
      "metadata": {
        "id": "_U18imv_Vi3X"
      },
      "outputs": [],
      "source": [
        "spark.stop()"
      ]
    },
    {
      "cell_type": "code",
      "execution_count": 37,
      "metadata": {
        "id": "D8y-M2BQ6GNE"
      },
      "outputs": [],
      "source": [
        "# https://towardsdatascience.com/machine-learning-on-a-large-scale-2eef3bb749ee"
      ]
    },
    {
      "cell_type": "code",
      "execution_count": null,
      "metadata": {
        "id": "urKrFjxiLVdX"
      },
      "outputs": [],
      "source": []
    }
  ],
  "metadata": {
    "colab": {
      "gpuType": "T4",
      "provenance": []
    },
    "gpuClass": "standard",
    "kernelspec": {
      "display_name": "Python 3",
      "name": "python3"
    },
    "language_info": {
      "codemirror_mode": {
        "name": "ipython",
        "version": 3
      },
      "file_extension": ".py",
      "mimetype": "text/x-python",
      "name": "python",
      "nbconvert_exporter": "python",
      "pygments_lexer": "ipython3",
      "version": "3.10.9"
    }
  },
  "nbformat": 4,
  "nbformat_minor": 0
}
